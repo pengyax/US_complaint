{
 "cells": [
  {
   "cell_type": "code",
   "execution_count": 1,
   "metadata": {},
   "outputs": [],
   "source": [
    "import pandas as pd\n",
    "import numpy as np"
   ]
  },
  {
   "cell_type": "code",
   "execution_count": 2,
   "metadata": {},
   "outputs": [],
   "source": [
    "vendor_mapping = pd.read_excel(r'C:\\Medline\\2. CPM\\data\\vendor_mapping\\Vendor _mapping 2024_v1.xlsx')\n",
    "vendor_mapping['Vendor Number'] = vendor_mapping['Vendor Number'].map(str)\n",
    "vendor_mapping_dict = dict(zip(vendor_mapping['Vendor Number'],vendor_mapping['Cleaned Vendor Name']))"
   ]
  },
  {
   "cell_type": "code",
   "execution_count": 3,
   "metadata": {},
   "outputs": [],
   "source": [
    "vendor_mapping_dict = dict(zip(vendor_mapping['Vendor Number'],vendor_mapping['Cleaned Vendor Name']))\n",
    "vendor_nation_dict = dict(zip(vendor_mapping['Cleaned Vendor Name'],vendor_mapping['Nation']))\n",
    "vendor_manager_dict = dict(zip(vendor_mapping['Cleaned Vendor Name'],vendor_mapping['Regional Manager']))"
   ]
  },
  {
   "cell_type": "code",
   "execution_count": 4,
   "metadata": {},
   "outputs": [],
   "source": [
    "blitz_vendor_info = pd.read_excel(r'C:\\Medline\\Vendor info\\2024_BlitzVendor.xlsx')\n",
    "blitz_ProjectLeader_dict = dict(zip(blitz_vendor_info['Vendor Name'],blitz_vendor_info['Project Leader']))\n",
    "blitz_Category_dict = dict(zip(blitz_vendor_info['Vendor Name'],blitz_vendor_info['Category']))"
   ]
  },
  {
   "cell_type": "code",
   "execution_count": 5,
   "metadata": {},
   "outputs": [
    {
     "name": "stderr",
     "output_type": "stream",
     "text": [
      "C:\\Users\\ypeng\\AppData\\Local\\Temp\\ipykernel_13036\\2473699971.py:1: FutureWarning: Inferring datetime64[ns] from data containing strings is deprecated and will be removed in a future version. To retain the old behavior explicitly pass Series(data, dtype=datetime64[ns])\n",
      "  df_complaints =pd.read_excel(r'C:\\Medline\\2. CPM\\2. US Complaints\\US Complaint Data 201901-202312.xlsx',sheet_name=1)\n"
     ]
    }
   ],
   "source": [
    "df_complaints =pd.read_excel(r'C:\\Medline\\2. CPM\\2. US Complaints\\US Complaint Data 201901-202312.xlsx',sheet_name=1)"
   ]
  },
  {
   "cell_type": "code",
   "execution_count": 6,
   "metadata": {},
   "outputs": [],
   "source": [
    "df_complaints_gy = (\n",
    "    df_complaints\n",
    "    .query(\"`If Manufacturing Complaint` == 'Y' and Year.isin([2023])\")\n",
    "    .assign(Quarter =lambda d: d['Notification Created Date'].dt.quarter,\n",
    "            Division = lambda d: d['Division'].map(str))\n",
    "    .groupby(['Vendor Name','Year','Quarter','Month'],as_index=False).size()\n",
    ")\n",
    "df_complaints_gy.rename(columns={'size':'Complaints','Vendor Name':'VendorName'},inplace=True)"
   ]
  },
  {
   "cell_type": "code",
   "execution_count": 7,
   "metadata": {},
   "outputs": [],
   "source": [
    "df_inspection_his = pd.read_excel(r'C:\\Medline\\3. QC trend report\\Asia QC Trend Report 202001_202312.xlsx',sheet_name=0)"
   ]
  },
  {
   "cell_type": "code",
   "execution_count": 8,
   "metadata": {},
   "outputs": [],
   "source": [
    "df_inspection_us_his =  df_inspection_his.loc[(df_inspection_his['Branch'] == 'US' ) & (df_inspection_his['Year'] == 2023),['Vendors','Year','Quarter','Month','#: Items inspected','#: Items reworked']]"
   ]
  },
  {
   "cell_type": "code",
   "execution_count": 9,
   "metadata": {},
   "outputs": [],
   "source": [
    "# df_inspection = pd.concat([df_inspection_us_his,df_inspection_us_current],ignore_index=True)\n",
    "df_inspection_us_groupby = df_inspection_us_his.groupby(['Vendors','Year','Quarter','Month'],as_index=False).sum()"
   ]
  },
  {
   "cell_type": "code",
   "execution_count": 10,
   "metadata": {},
   "outputs": [],
   "source": [
    "df_inspection_us_groupby.rename(columns={'Vendors':'VendorName'},inplace=True)"
   ]
  },
  {
   "cell_type": "code",
   "execution_count": 11,
   "metadata": {},
   "outputs": [],
   "source": [
    "df_us_buom_2023 = pd.read_excel(r'C:\\Medline\\2. CPM\\4. CPM by BUOM\\BUOM Database\\history\\US_ShippingData_2023.xlsx',usecols='D,E,AB,AP,BI')\n",
    "df_us_buom_2024 = pd.read_excel(r'C:\\Medline\\2. CPM\\4. CPM by BUOM\\BUOM Database\\2024\\US\\US BUOM 202401.xlsx',usecols='D,E,P,X,Y')\n",
    "df_us_buom = pd.concat([df_us_buom_2024,df_us_buom_2023],ignore_index=True)\n",
    "df_us_buom.rename(columns={'StrippedVendorNumber':'VendorNumber'},inplace=True)\n",
    "df_us_buom['VendorNumber'] = df_us_buom['VendorNumber'].map(str)"
   ]
  },
  {
   "cell_type": "code",
   "execution_count": 12,
   "metadata": {},
   "outputs": [],
   "source": [
    "vendor_mapping_inspection = vendor_mapping.loc[(~vendor_mapping['Regional Manager'].isin(['Exemption','US vendor']))&(vendor_mapping['Regional Manager'].notnull()),'Vendor Number'].to_list()\n",
    "df_us_buom = df_us_buom.loc[df_us_buom['VendorNumber'].isin(vendor_mapping_inspection)]\n",
    "df_us_buom['VendorName'] = df_us_buom['VendorNumber'].apply(lambda x : vendor_mapping_dict.get(x,np.nan))"
   ]
  },
  {
   "cell_type": "code",
   "execution_count": 13,
   "metadata": {},
   "outputs": [],
   "source": [
    "df_us_buom['Year'] = df_us_buom['ShipmentDt'].dt.year\n",
    "df_us_buom['Quarter'] = df_us_buom['ShipmentDt'].dt.quarter\n",
    "df_us_buom['Month'] = df_us_buom['ShipmentDt'].dt.month"
   ]
  },
  {
   "cell_type": "code",
   "execution_count": 14,
   "metadata": {},
   "outputs": [],
   "source": [
    "df_us_buom_gy = df_BUOM_gy = df_us_buom.groupby(['VendorName','Year','Quarter','Month'],as_index=False)['BUOMShipmentQty'].sum()"
   ]
  },
  {
   "cell_type": "code",
   "execution_count": 15,
   "metadata": {},
   "outputs": [
    {
     "name": "stdout",
     "output_type": "stream",
     "text": [
      "<class 'pandas.core.frame.DataFrame'>\n",
      "RangeIndex: 4506 entries, 0 to 4505\n",
      "Data columns (total 5 columns):\n",
      " #   Column           Non-Null Count  Dtype \n",
      "---  ------           --------------  ----- \n",
      " 0   VendorName       4506 non-null   object\n",
      " 1   Year             4506 non-null   int64 \n",
      " 2   Quarter          4506 non-null   int64 \n",
      " 3   Month            4506 non-null   int64 \n",
      " 4   BUOMShipmentQty  4506 non-null   int64 \n",
      "dtypes: int64(4), object(1)\n",
      "memory usage: 176.1+ KB\n"
     ]
    }
   ],
   "source": [
    "df_us_buom_gy.info()"
   ]
  },
  {
   "cell_type": "code",
   "execution_count": 16,
   "metadata": {},
   "outputs": [
    {
     "data": {
      "text/html": [
       "<div>\n",
       "<style scoped>\n",
       "    .dataframe tbody tr th:only-of-type {\n",
       "        vertical-align: middle;\n",
       "    }\n",
       "\n",
       "    .dataframe tbody tr th {\n",
       "        vertical-align: top;\n",
       "    }\n",
       "\n",
       "    .dataframe thead th {\n",
       "        text-align: right;\n",
       "    }\n",
       "</style>\n",
       "<table border=\"1\" class=\"dataframe\">\n",
       "  <thead>\n",
       "    <tr style=\"text-align: right;\">\n",
       "      <th></th>\n",
       "      <th>VendorName</th>\n",
       "      <th>Year</th>\n",
       "      <th>Quarter</th>\n",
       "      <th>Month</th>\n",
       "      <th>Complaints</th>\n",
       "    </tr>\n",
       "  </thead>\n",
       "  <tbody>\n",
       "    <tr>\n",
       "      <th>0</th>\n",
       "      <td>A AND J HOLDING CO LTD</td>\n",
       "      <td>2023</td>\n",
       "      <td>1</td>\n",
       "      <td>1</td>\n",
       "      <td>10</td>\n",
       "    </tr>\n",
       "    <tr>\n",
       "      <th>1</th>\n",
       "      <td>A AND J HOLDING CO LTD</td>\n",
       "      <td>2023</td>\n",
       "      <td>1</td>\n",
       "      <td>2</td>\n",
       "      <td>3</td>\n",
       "    </tr>\n",
       "    <tr>\n",
       "      <th>2</th>\n",
       "      <td>A AND J HOLDING CO LTD</td>\n",
       "      <td>2023</td>\n",
       "      <td>1</td>\n",
       "      <td>3</td>\n",
       "      <td>5</td>\n",
       "    </tr>\n",
       "    <tr>\n",
       "      <th>3</th>\n",
       "      <td>A AND J HOLDING CO LTD</td>\n",
       "      <td>2023</td>\n",
       "      <td>2</td>\n",
       "      <td>4</td>\n",
       "      <td>3</td>\n",
       "    </tr>\n",
       "    <tr>\n",
       "      <th>4</th>\n",
       "      <td>A AND J HOLDING CO LTD</td>\n",
       "      <td>2023</td>\n",
       "      <td>2</td>\n",
       "      <td>5</td>\n",
       "      <td>7</td>\n",
       "    </tr>\n",
       "    <tr>\n",
       "      <th>...</th>\n",
       "      <td>...</td>\n",
       "      <td>...</td>\n",
       "      <td>...</td>\n",
       "      <td>...</td>\n",
       "      <td>...</td>\n",
       "    </tr>\n",
       "    <tr>\n",
       "      <th>819</th>\n",
       "      <td>ZHONGSHAN BLISS MEDICAL</td>\n",
       "      <td>2023</td>\n",
       "      <td>3</td>\n",
       "      <td>8</td>\n",
       "      <td>13</td>\n",
       "    </tr>\n",
       "    <tr>\n",
       "      <th>820</th>\n",
       "      <td>ZHONGSHAN BLISS MEDICAL</td>\n",
       "      <td>2023</td>\n",
       "      <td>3</td>\n",
       "      <td>9</td>\n",
       "      <td>3</td>\n",
       "    </tr>\n",
       "    <tr>\n",
       "      <th>821</th>\n",
       "      <td>ZHONGSHAN BLISS MEDICAL</td>\n",
       "      <td>2023</td>\n",
       "      <td>4</td>\n",
       "      <td>10</td>\n",
       "      <td>6</td>\n",
       "    </tr>\n",
       "    <tr>\n",
       "      <th>822</th>\n",
       "      <td>ZHONGSHAN BLISS MEDICAL</td>\n",
       "      <td>2023</td>\n",
       "      <td>4</td>\n",
       "      <td>11</td>\n",
       "      <td>6</td>\n",
       "    </tr>\n",
       "    <tr>\n",
       "      <th>823</th>\n",
       "      <td>ZHONGSHAN BLISS MEDICAL</td>\n",
       "      <td>2023</td>\n",
       "      <td>4</td>\n",
       "      <td>12</td>\n",
       "      <td>1</td>\n",
       "    </tr>\n",
       "  </tbody>\n",
       "</table>\n",
       "<p>824 rows × 5 columns</p>\n",
       "</div>"
      ],
      "text/plain": [
       "                  VendorName  Year  Quarter  Month  Complaints\n",
       "0     A AND J HOLDING CO LTD  2023        1      1          10\n",
       "1     A AND J HOLDING CO LTD  2023        1      2           3\n",
       "2     A AND J HOLDING CO LTD  2023        1      3           5\n",
       "3     A AND J HOLDING CO LTD  2023        2      4           3\n",
       "4     A AND J HOLDING CO LTD  2023        2      5           7\n",
       "..                       ...   ...      ...    ...         ...\n",
       "819  ZHONGSHAN BLISS MEDICAL  2023        3      8          13\n",
       "820  ZHONGSHAN BLISS MEDICAL  2023        3      9           3\n",
       "821  ZHONGSHAN BLISS MEDICAL  2023        4     10           6\n",
       "822  ZHONGSHAN BLISS MEDICAL  2023        4     11           6\n",
       "823  ZHONGSHAN BLISS MEDICAL  2023        4     12           1\n",
       "\n",
       "[824 rows x 5 columns]"
      ]
     },
     "execution_count": 16,
     "metadata": {},
     "output_type": "execute_result"
    }
   ],
   "source": [
    "df_complaints_gy"
   ]
  },
  {
   "cell_type": "code",
   "execution_count": 17,
   "metadata": {},
   "outputs": [],
   "source": [
    "raw_data = df_complaints_gy.merge(df_us_buom_gy,how = 'outer',on=['VendorName','Year','Quarter','Month']).merge(df_inspection_us_groupby,how = 'outer',on=['VendorName','Year','Quarter','Month']).fillna(0)"
   ]
  },
  {
   "cell_type": "code",
   "execution_count": 18,
   "metadata": {},
   "outputs": [],
   "source": [
    "raw_data['Nation'] = raw_data['VendorName'].apply(lambda x : vendor_nation_dict.get(x,np.nan))\n",
    "raw_data['Regional Manager'] = raw_data['VendorName'].apply(lambda x : vendor_manager_dict.get(x,np.nan))\n",
    "raw_data['Project Leader'] = raw_data['VendorName'].apply(lambda x : blitz_ProjectLeader_dict.get(x,np.nan))\n",
    "raw_data['Category'] = raw_data['VendorName'].apply(lambda x : blitz_Category_dict.get(x,np.nan))\n",
    "raw_data['CPM'] = None"
   ]
  },
  {
   "cell_type": "code",
   "execution_count": 19,
   "metadata": {},
   "outputs": [
    {
     "data": {
      "text/html": [
       "<div>\n",
       "<style scoped>\n",
       "    .dataframe tbody tr th:only-of-type {\n",
       "        vertical-align: middle;\n",
       "    }\n",
       "\n",
       "    .dataframe tbody tr th {\n",
       "        vertical-align: top;\n",
       "    }\n",
       "\n",
       "    .dataframe thead th {\n",
       "        text-align: right;\n",
       "    }\n",
       "</style>\n",
       "<table border=\"1\" class=\"dataframe\">\n",
       "  <thead>\n",
       "    <tr style=\"text-align: right;\">\n",
       "      <th></th>\n",
       "      <th>VendorName</th>\n",
       "      <th>Year</th>\n",
       "      <th>Quarter</th>\n",
       "      <th>Month</th>\n",
       "      <th>Complaints</th>\n",
       "      <th>BUOMShipmentQty</th>\n",
       "      <th>#: Items inspected</th>\n",
       "      <th>#: Items reworked</th>\n",
       "      <th>Nation</th>\n",
       "      <th>Regional Manager</th>\n",
       "      <th>Project Leader</th>\n",
       "      <th>Category</th>\n",
       "      <th>CPM</th>\n",
       "    </tr>\n",
       "  </thead>\n",
       "  <tbody>\n",
       "    <tr>\n",
       "      <th>0</th>\n",
       "      <td>A AND J HOLDING CO LTD</td>\n",
       "      <td>2023.0</td>\n",
       "      <td>1.0</td>\n",
       "      <td>1.0</td>\n",
       "      <td>10.0</td>\n",
       "      <td>1826.0</td>\n",
       "      <td>13.0</td>\n",
       "      <td>0.0</td>\n",
       "      <td>CN</td>\n",
       "      <td>Richard Li(DME)</td>\n",
       "      <td>Gaming Chen</td>\n",
       "      <td>Top Complaints</td>\n",
       "      <td>None</td>\n",
       "    </tr>\n",
       "    <tr>\n",
       "      <th>1</th>\n",
       "      <td>A AND J HOLDING CO LTD</td>\n",
       "      <td>2023.0</td>\n",
       "      <td>1.0</td>\n",
       "      <td>2.0</td>\n",
       "      <td>3.0</td>\n",
       "      <td>1439.0</td>\n",
       "      <td>32.0</td>\n",
       "      <td>0.0</td>\n",
       "      <td>CN</td>\n",
       "      <td>Richard Li(DME)</td>\n",
       "      <td>Gaming Chen</td>\n",
       "      <td>Top Complaints</td>\n",
       "      <td>None</td>\n",
       "    </tr>\n",
       "    <tr>\n",
       "      <th>2</th>\n",
       "      <td>A AND J HOLDING CO LTD</td>\n",
       "      <td>2023.0</td>\n",
       "      <td>1.0</td>\n",
       "      <td>3.0</td>\n",
       "      <td>5.0</td>\n",
       "      <td>2279.0</td>\n",
       "      <td>17.0</td>\n",
       "      <td>1.0</td>\n",
       "      <td>CN</td>\n",
       "      <td>Richard Li(DME)</td>\n",
       "      <td>Gaming Chen</td>\n",
       "      <td>Top Complaints</td>\n",
       "      <td>None</td>\n",
       "    </tr>\n",
       "    <tr>\n",
       "      <th>3</th>\n",
       "      <td>A AND J HOLDING CO LTD</td>\n",
       "      <td>2023.0</td>\n",
       "      <td>2.0</td>\n",
       "      <td>4.0</td>\n",
       "      <td>3.0</td>\n",
       "      <td>1237.0</td>\n",
       "      <td>18.0</td>\n",
       "      <td>1.0</td>\n",
       "      <td>CN</td>\n",
       "      <td>Richard Li(DME)</td>\n",
       "      <td>Gaming Chen</td>\n",
       "      <td>Top Complaints</td>\n",
       "      <td>None</td>\n",
       "    </tr>\n",
       "    <tr>\n",
       "      <th>4</th>\n",
       "      <td>A AND J HOLDING CO LTD</td>\n",
       "      <td>2023.0</td>\n",
       "      <td>2.0</td>\n",
       "      <td>5.0</td>\n",
       "      <td>7.0</td>\n",
       "      <td>1236.0</td>\n",
       "      <td>18.0</td>\n",
       "      <td>1.0</td>\n",
       "      <td>CN</td>\n",
       "      <td>Richard Li(DME)</td>\n",
       "      <td>Gaming Chen</td>\n",
       "      <td>Top Complaints</td>\n",
       "      <td>None</td>\n",
       "    </tr>\n",
       "  </tbody>\n",
       "</table>\n",
       "</div>"
      ],
      "text/plain": [
       "               VendorName    Year  Quarter  Month  Complaints  \\\n",
       "0  A AND J HOLDING CO LTD  2023.0      1.0    1.0        10.0   \n",
       "1  A AND J HOLDING CO LTD  2023.0      1.0    2.0         3.0   \n",
       "2  A AND J HOLDING CO LTD  2023.0      1.0    3.0         5.0   \n",
       "3  A AND J HOLDING CO LTD  2023.0      2.0    4.0         3.0   \n",
       "4  A AND J HOLDING CO LTD  2023.0      2.0    5.0         7.0   \n",
       "\n",
       "   BUOMShipmentQty  #: Items inspected  #: Items reworked Nation  \\\n",
       "0           1826.0                13.0                0.0     CN   \n",
       "1           1439.0                32.0                0.0     CN   \n",
       "2           2279.0                17.0                1.0     CN   \n",
       "3           1237.0                18.0                1.0     CN   \n",
       "4           1236.0                18.0                1.0     CN   \n",
       "\n",
       "  Regional Manager Project Leader        Category   CPM  \n",
       "0  Richard Li(DME)    Gaming Chen  Top Complaints  None  \n",
       "1  Richard Li(DME)    Gaming Chen  Top Complaints  None  \n",
       "2  Richard Li(DME)    Gaming Chen  Top Complaints  None  \n",
       "3  Richard Li(DME)    Gaming Chen  Top Complaints  None  \n",
       "4  Richard Li(DME)    Gaming Chen  Top Complaints  None  "
      ]
     },
     "execution_count": 19,
     "metadata": {},
     "output_type": "execute_result"
    }
   ],
   "source": [
    "raw_data.head()"
   ]
  },
  {
   "cell_type": "code",
   "execution_count": 20,
   "metadata": {},
   "outputs": [],
   "source": [
    "raw_data = raw_data[['VendorName',\n",
    "                     'Nation',\n",
    "                     'Project Leader',\n",
    "                     'Regional Manager',\n",
    "                     'Category',\n",
    "                     'Year',\n",
    "                     'Month',\n",
    "                     'Quarter',\n",
    "                     'Complaints',\n",
    "                     'BUOMShipmentQty',\n",
    "                     'CPM',\n",
    "                     '#: Items inspected',\n",
    "                     '#: Items reworked'\n",
    "                     ]]"
   ]
  },
  {
   "cell_type": "code",
   "execution_count": 21,
   "metadata": {},
   "outputs": [],
   "source": [
    "raw_data.to_excel('us_raw_data.xlsx')"
   ]
  }
 ],
 "metadata": {
  "kernelspec": {
   "display_name": "Python 3",
   "language": "python",
   "name": "python3"
  },
  "language_info": {
   "codemirror_mode": {
    "name": "ipython",
    "version": 3
   },
   "file_extension": ".py",
   "mimetype": "text/x-python",
   "name": "python",
   "nbconvert_exporter": "python",
   "pygments_lexer": "ipython3",
   "version": "3.8.0"
  }
 },
 "nbformat": 4,
 "nbformat_minor": 2
}
