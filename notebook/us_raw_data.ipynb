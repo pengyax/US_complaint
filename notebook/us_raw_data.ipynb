{
 "cells": [
  {
   "cell_type": "code",
   "execution_count": 37,
   "metadata": {},
   "outputs": [],
   "source": [
    "import pandas as pd\n",
    "import numpy as np\n",
    "from datetime import datetime, timedelta\n",
    "from itertools import cycle"
   ]
  },
  {
   "cell_type": "code",
   "execution_count": 38,
   "metadata": {},
   "outputs": [],
   "source": [
    "year_month = '202412'"
   ]
  },
  {
   "cell_type": "code",
   "execution_count": 39,
   "metadata": {},
   "outputs": [
    {
     "name": "stdout",
     "output_type": "stream",
     "text": [
      "Previous year month: 202305\n",
      "ETD (End of the month of the previous year): 2023-05-31\n",
      "5\n"
     ]
    }
   ],
   "source": [
    "# 解析年月字符串\n",
    "year_month_dt = datetime.strptime(year_month, '%Y%m')\n",
    "\n",
    "# 计算去年同期的年和月\n",
    "previous_year = year_month_dt.year - 1\n",
    "previous_month = year_month_dt.month\n",
    "\n",
    "Mon = previous_month\n",
    "\n",
    "# 格式化去年同期的年月\n",
    "previous_year_month = f\"{previous_year:04d}{previous_month:02d}\"\n",
    "\n",
    "# 计算去年同期月份的第一天\n",
    "previous_month_first_day = year_month_dt.replace(year=previous_year, month=previous_month, day=1)\n",
    "\n",
    "# 计算去年同期月份的最后一天\n",
    "etd = (previous_month_first_day + timedelta(days=31)).replace(day=1) - timedelta(days=1)\n",
    "etd = etd.strftime('%Y-%m-%d')\n",
    "\n",
    "# 输出结果\n",
    "print(f\"Previous year month: {previous_year_month}\")\n",
    "print(f\"ETD (End of the month of the previous year): {etd}\")\n",
    "print(Mon)"
   ]
  },
  {
   "cell_type": "code",
   "execution_count": 40,
   "metadata": {},
   "outputs": [],
   "source": [
    "vendor_mapping = pd.read_excel(r'C:\\Medline\\2. CPM\\data\\vendor_mapping\\Vendor _mapping 2024_v2.xlsx')\n",
    "vendor_mapping['Vendor Number'] = vendor_mapping['Vendor Number'].map(str)\n",
    "vendor_mapping_dict = dict(zip(vendor_mapping['Vendor Number'],vendor_mapping['Cleaned Vendor Name']))"
   ]
  },
  {
   "cell_type": "code",
   "execution_count": 41,
   "metadata": {},
   "outputs": [],
   "source": [
    "vendor_mapping_dict = dict(zip(vendor_mapping['Vendor Number'],vendor_mapping['Cleaned Vendor Name']))\n",
    "vendor_nation_dict = dict(zip(vendor_mapping['Cleaned Vendor Name'],vendor_mapping['Nation']))\n",
    "vendor_manager_dict = dict(zip(vendor_mapping['Cleaned Vendor Name'],vendor_mapping['Regional Manager']))"
   ]
  },
  {
   "cell_type": "code",
   "execution_count": 42,
   "metadata": {},
   "outputs": [],
   "source": [
    "blitz_vendor_info = pd.read_excel(r'C:\\Medline\\Vendor info\\2024_BlitzVendor.xlsx',sheet_name=1)\n",
    "blitz_ProjectLeader_dict = dict(zip(blitz_vendor_info['Vendor Name'],blitz_vendor_info['Project Leader']))\n",
    "blitz_Category_dict = dict(zip(blitz_vendor_info['Vendor Name'],blitz_vendor_info['Category']))"
   ]
  },
  {
   "cell_type": "code",
   "execution_count": 43,
   "metadata": {},
   "outputs": [],
   "source": [
    "# df_complaint_21_22 =pd.read_excel(r'C:\\Medline\\2. CPM\\2. US Complaints\\US Complaint Data 201901-202401.xlsx',sheet_name=1)\n",
    "# df_complaint_21_22 = df_complaint_21_22.loc[df_complaint_21_22['Year'].isin([2021,2022])]"
   ]
  },
  {
   "cell_type": "code",
   "execution_count": 44,
   "metadata": {},
   "outputs": [],
   "source": [
    "df_complaints_2024 = pd.read_excel(r'C:\\Medline\\2. CPM\\2. US Complaints\\2024\\{} Complaint Data.xlsx'.format(year_month),sheet_name='2024 Complaint Database')"
   ]
  },
  {
   "cell_type": "code",
   "execution_count": 45,
   "metadata": {},
   "outputs": [],
   "source": [
    "df_complaints_2023 = pd.read_excel(r'C:\\Medline\\2. CPM\\2. US Complaints\\unidentified\\2023\\{} Complaint Data.xlsx'.format(previous_year_month),sheet_name='2023 Complaint Database')"
   ]
  },
  {
   "cell_type": "code",
   "execution_count": 46,
   "metadata": {},
   "outputs": [],
   "source": [
    "df_complaints = pd.concat([df_complaints_2024,df_complaints_2023],ignore_index=True)\n",
    "df_complaints.fillna('Unidentified Vendor',inplace=True)"
   ]
  },
  {
   "cell_type": "code",
   "execution_count": 47,
   "metadata": {},
   "outputs": [],
   "source": [
    "# df_blitz = pd.concat([df_complaints_2024,df_complaints_2023],ignore_index=True)\n",
    "# df_blitz.to_excel('blitz_complaints.xlsx',index=False)"
   ]
  },
  {
   "cell_type": "code",
   "execution_count": 48,
   "metadata": {},
   "outputs": [],
   "source": [
    "df_complaints_gy = (\n",
    "    df_complaints\n",
    "    .query(\"`If Manufacturing Complaint` == 'Y' and Year.isin([2021,2022,2023,2024])\")\n",
    "    .assign(Quarter =lambda d: d['Notification Created Date'].dt.quarter,\n",
    "            Division = lambda d: d['Division'].map(int).map(str))\n",
    "        .groupby(['VendorName','Division','Year','Quarter','Month'],as_index=False).size()\n",
    ")\n",
    "df_complaints_gy.rename(columns={'size':'Complaints'},inplace=True)"
   ]
  },
  {
   "cell_type": "code",
   "execution_count": 49,
   "metadata": {},
   "outputs": [],
   "source": [
    "df_inspection_his = pd.read_excel(r'C:\\Medline\\3. QC trend report\\Asia QC Trend Report 202001_202405.xlsx',sheet_name=0)"
   ]
  },
  {
   "cell_type": "code",
   "execution_count": 50,
   "metadata": {},
   "outputs": [],
   "source": [
    "# df_inspection_us_2021_2022 =  df_inspection_his.loc[(df_inspection_his['Branch'] == 'US' ) & (df_inspection_his['Year'].isin([2021,2022])),['Vendors','Division','Year','Quarter','Month','#: Items inspected','#: Items reworked']]\n",
    "df_inspection_us_2023 =  df_inspection_his.loc[(df_inspection_his['Branch'] == 'US' ) & (df_inspection_his['Year'].isin([2023])) & (df_inspection_his['Month']<= Mon),['Vendors','Division','Year','Quarter','Month','#: Items inspected','#: Items reworked']]"
   ]
  },
  {
   "cell_type": "code",
   "execution_count": 51,
   "metadata": {},
   "outputs": [],
   "source": [
    "df_inspection_us_current = pd.read_excel(r'C:\\Medline\\3. QC trend report\\2024\\Excel Report\\Asia QC Trend Report US_202405.xlsx',sheet_name='Overall')\n",
    "df_inspection_us_current =  df_inspection_us_current.loc[(df_inspection_us_current['Branch'] == 'US' ) & (df_inspection_us_current['Year'] == 2024),['Vendors','Division','Year','Quarter','Month','#: Items inspected','#: Items reworked']]"
   ]
  },
  {
   "cell_type": "code",
   "execution_count": 52,
   "metadata": {},
   "outputs": [],
   "source": [
    "df_inspection = pd.concat([df_inspection_us_current,df_inspection_us_2023],ignore_index=True)\n",
    "df_inspection_us_groupby = df_inspection.groupby(['Vendors','Division','Year','Quarter','Month'],as_index=False).sum()"
   ]
  },
  {
   "cell_type": "code",
   "execution_count": 53,
   "metadata": {},
   "outputs": [],
   "source": [
    "df_inspection_us_groupby.rename(columns={'Vendors':'VendorName'},inplace=True)"
   ]
  },
  {
   "cell_type": "code",
   "execution_count": 54,
   "metadata": {},
   "outputs": [],
   "source": [
    "df_inspection_us_groupby['Year'] = df_inspection_us_groupby['Year'].map(int)\n",
    "df_inspection_us_groupby['Quarter'] = df_inspection_us_groupby['Quarter'].map(int)\n",
    "df_inspection_us_groupby['Month'] = df_inspection_us_groupby['Month'].map(int)\n",
    "df_inspection_us_groupby['Division'] = df_inspection_us_groupby['Division'].map(int).map(str)"
   ]
  },
  {
   "cell_type": "code",
   "execution_count": 55,
   "metadata": {},
   "outputs": [],
   "source": [
    "# df_BUOM_2021  = pd.read_excel(r'C:\\Medline\\2. CPM\\4. CPM by BUOM\\BUOM Database\\history\\US_ShippingData_2021.xlsx', usecols='D,E,AB,AP,BI')\n",
    "# df_BUOM_2022  = pd.read_excel(r'C:\\Medline\\2. CPM\\4. CPM by BUOM\\BUOM Database\\history\\US_ShippingData_2022.xlsx', usecols='D,E,AB,AP,BI')"
   ]
  },
  {
   "cell_type": "code",
   "execution_count": 56,
   "metadata": {},
   "outputs": [],
   "source": [
    "df_BUOM_2023  = pd.read_excel(r'C:\\Medline\\2. CPM\\4. CPM by BUOM\\BUOM Database\\2023\\US BUOM {}.xlsx'.format(previous_year_month), usecols='C,D,H,P,Q')\n",
    "df_BUOM_2023 = df_BUOM_2023.loc[(df_BUOM_2023['ShipmentDt'] <= etd) & (df_BUOM_2023['ShipmentDt'] >= '2023-01-01')]"
   ]
  },
  {
   "cell_type": "code",
   "execution_count": 57,
   "metadata": {},
   "outputs": [],
   "source": [
    "df_BUOM_2024  = pd.read_excel(r'C:\\Medline\\2. CPM\\4. CPM by BUOM\\BUOM Database\\2024\\US\\US BUOM {}.xlsx'.format(year_month), usecols='D,E,P,X,Y')"
   ]
  },
  {
   "cell_type": "code",
   "execution_count": 58,
   "metadata": {},
   "outputs": [],
   "source": [
    "df_us_buom = pd.concat([df_BUOM_2024,df_BUOM_2023],ignore_index=True)"
   ]
  },
  {
   "cell_type": "code",
   "execution_count": 59,
   "metadata": {},
   "outputs": [],
   "source": [
    "df_us_buom.dropna(subset=['StrippedVendorNumber'],inplace=True)\n",
    "df_us_buom['Year'] = df_us_buom['ShipmentDt'].dt.year\n",
    "df_us_buom['Quarter'] = df_us_buom['ShipmentDt'].dt.quarter\n",
    "df_us_buom['Month'] = df_us_buom['ShipmentDt'].dt.month"
   ]
  },
  {
   "cell_type": "code",
   "execution_count": 60,
   "metadata": {},
   "outputs": [],
   "source": [
    "df_us_buom.rename(columns={'StrippedVendorNumber':'VendorNumber'},inplace=True)\n",
    "df_us_buom['VendorNumber'] = df_us_buom['VendorNumber'].map(int).map(str)"
   ]
  },
  {
   "cell_type": "code",
   "execution_count": 61,
   "metadata": {},
   "outputs": [],
   "source": [
    "df_us_buom_all = df_us_buom.copy()"
   ]
  },
  {
   "cell_type": "code",
   "execution_count": 62,
   "metadata": {},
   "outputs": [],
   "source": [
    "vendor_mapping_inspection = vendor_mapping.loc[vendor_mapping['Is_Asia']=='Y','Vendor Number'].to_list()\n",
    "df_us_buom_all = df_us_buom_all.loc[df_us_buom_all['VendorNumber'].isin(vendor_mapping_inspection)]\n",
    "df_us_buom_all['VendorName'] = df_us_buom_all['VendorNumber'].apply(lambda x : vendor_mapping_dict.get(x,np.nan))\n",
    "df_us_buom_all.rename(columns={'ProductDivisionCode':'Division'},inplace=True)\n",
    "df_us_buom_all['Division'] = df_us_buom_all['Division'].map(int).map(str)"
   ]
  },
  {
   "cell_type": "code",
   "execution_count": 63,
   "metadata": {},
   "outputs": [],
   "source": [
    "df_us_buom_gy = df_us_buom_all.groupby(['VendorName','Division','Year','Quarter','Month'],as_index=False)['BUOMShipmentQty'].sum()"
   ]
  },
  {
   "cell_type": "code",
   "execution_count": 64,
   "metadata": {},
   "outputs": [
    {
     "name": "stdout",
     "output_type": "stream",
     "text": [
      "<class 'pandas.core.frame.DataFrame'>\n",
      "RangeIndex: 6575 entries, 0 to 6574\n",
      "Data columns (total 6 columns):\n",
      " #   Column           Non-Null Count  Dtype \n",
      "---  ------           --------------  ----- \n",
      " 0   VendorName       6575 non-null   object\n",
      " 1   Division         6575 non-null   object\n",
      " 2   Year             6575 non-null   int64 \n",
      " 3   Quarter          6575 non-null   int64 \n",
      " 4   Month            6575 non-null   int64 \n",
      " 5   BUOMShipmentQty  6575 non-null   int64 \n",
      "dtypes: int64(4), object(2)\n",
      "memory usage: 308.3+ KB\n"
     ]
    }
   ],
   "source": [
    "df_us_buom_gy.info()"
   ]
  },
  {
   "cell_type": "code",
   "execution_count": 65,
   "metadata": {},
   "outputs": [
    {
     "name": "stdout",
     "output_type": "stream",
     "text": [
      "<class 'pandas.core.frame.DataFrame'>\n",
      "RangeIndex: 1018 entries, 0 to 1017\n",
      "Data columns (total 6 columns):\n",
      " #   Column      Non-Null Count  Dtype \n",
      "---  ------      --------------  ----- \n",
      " 0   VendorName  1018 non-null   object\n",
      " 1   Division    1018 non-null   object\n",
      " 2   Year        1018 non-null   int64 \n",
      " 3   Quarter     1018 non-null   int64 \n",
      " 4   Month       1018 non-null   int64 \n",
      " 5   Complaints  1018 non-null   int64 \n",
      "dtypes: int64(4), object(2)\n",
      "memory usage: 47.8+ KB\n"
     ]
    }
   ],
   "source": [
    "df_complaints_gy.info()"
   ]
  },
  {
   "cell_type": "code",
   "execution_count": 66,
   "metadata": {},
   "outputs": [
    {
     "name": "stdout",
     "output_type": "stream",
     "text": [
      "<class 'pandas.core.frame.DataFrame'>\n",
      "RangeIndex: 6914 entries, 0 to 6913\n",
      "Data columns (total 7 columns):\n",
      " #   Column              Non-Null Count  Dtype \n",
      "---  ------              --------------  ----- \n",
      " 0   VendorName          6914 non-null   object\n",
      " 1   Division            6914 non-null   object\n",
      " 2   Year                6914 non-null   int64 \n",
      " 3   Quarter             6914 non-null   int64 \n",
      " 4   Month               6914 non-null   int64 \n",
      " 5   #: Items inspected  6914 non-null   int64 \n",
      " 6   #: Items reworked   6914 non-null   int64 \n",
      "dtypes: int64(5), object(2)\n",
      "memory usage: 378.2+ KB\n"
     ]
    }
   ],
   "source": [
    "df_inspection_us_groupby.info()"
   ]
  },
  {
   "cell_type": "code",
   "execution_count": 67,
   "metadata": {},
   "outputs": [],
   "source": [
    "raw_data = df_complaints_gy.merge(df_us_buom_gy,how ='outer',on=['VendorName','Division','Year','Quarter','Month']).merge(df_inspection_us_groupby,how = 'outer',on=['VendorName','Division','Year','Quarter','Month']).fillna(0)"
   ]
  },
  {
   "cell_type": "code",
   "execution_count": 68,
   "metadata": {},
   "outputs": [],
   "source": [
    "raw_data['Nation'] = raw_data['VendorName'].apply(lambda x : vendor_nation_dict.get(x,np.nan))\n",
    "raw_data['Regional Manager'] = raw_data['VendorName'].apply(lambda x : vendor_manager_dict.get(x,np.nan))\n",
    "raw_data['Project Leader'] = raw_data['VendorName'].apply(lambda x : blitz_ProjectLeader_dict.get(x,np.nan))\n",
    "raw_data['Category'] = raw_data['VendorName'].apply(lambda x : blitz_Category_dict.get(x,np.nan))\n",
    "raw_data['CPM'] = None"
   ]
  },
  {
   "cell_type": "code",
   "execution_count": 69,
   "metadata": {},
   "outputs": [
    {
     "data": {
      "text/html": [
       "<div>\n",
       "<style scoped>\n",
       "    .dataframe tbody tr th:only-of-type {\n",
       "        vertical-align: middle;\n",
       "    }\n",
       "\n",
       "    .dataframe tbody tr th {\n",
       "        vertical-align: top;\n",
       "    }\n",
       "\n",
       "    .dataframe thead th {\n",
       "        text-align: right;\n",
       "    }\n",
       "</style>\n",
       "<table border=\"1\" class=\"dataframe\">\n",
       "  <thead>\n",
       "    <tr style=\"text-align: right;\">\n",
       "      <th></th>\n",
       "      <th>VendorName</th>\n",
       "      <th>Division</th>\n",
       "      <th>Year</th>\n",
       "      <th>Quarter</th>\n",
       "      <th>Month</th>\n",
       "      <th>Complaints</th>\n",
       "      <th>BUOMShipmentQty</th>\n",
       "      <th>#: Items inspected</th>\n",
       "      <th>#: Items reworked</th>\n",
       "      <th>Nation</th>\n",
       "      <th>Regional Manager</th>\n",
       "      <th>Project Leader</th>\n",
       "      <th>Category</th>\n",
       "      <th>CPM</th>\n",
       "    </tr>\n",
       "  </thead>\n",
       "  <tbody>\n",
       "    <tr>\n",
       "      <th>0</th>\n",
       "      <td>A AND J HOLDING CO LTD</td>\n",
       "      <td>30</td>\n",
       "      <td>2023</td>\n",
       "      <td>1</td>\n",
       "      <td>1</td>\n",
       "      <td>4.0</td>\n",
       "      <td>0.0</td>\n",
       "      <td>0.0</td>\n",
       "      <td>0.0</td>\n",
       "      <td>CN</td>\n",
       "      <td>Richard Li(DME)</td>\n",
       "      <td>Gaming Chen</td>\n",
       "      <td>Top 12 Vendors</td>\n",
       "      <td>None</td>\n",
       "    </tr>\n",
       "    <tr>\n",
       "      <th>1</th>\n",
       "      <td>A AND J HOLDING CO LTD</td>\n",
       "      <td>32</td>\n",
       "      <td>2023</td>\n",
       "      <td>1</td>\n",
       "      <td>1</td>\n",
       "      <td>1.0</td>\n",
       "      <td>794.0</td>\n",
       "      <td>3.0</td>\n",
       "      <td>0.0</td>\n",
       "      <td>CN</td>\n",
       "      <td>Richard Li(DME)</td>\n",
       "      <td>Gaming Chen</td>\n",
       "      <td>Top 12 Vendors</td>\n",
       "      <td>None</td>\n",
       "    </tr>\n",
       "    <tr>\n",
       "      <th>2</th>\n",
       "      <td>A AND J HOLDING CO LTD</td>\n",
       "      <td>32</td>\n",
       "      <td>2023</td>\n",
       "      <td>1</td>\n",
       "      <td>2</td>\n",
       "      <td>1.0</td>\n",
       "      <td>480.0</td>\n",
       "      <td>8.0</td>\n",
       "      <td>0.0</td>\n",
       "      <td>CN</td>\n",
       "      <td>Richard Li(DME)</td>\n",
       "      <td>Gaming Chen</td>\n",
       "      <td>Top 12 Vendors</td>\n",
       "      <td>None</td>\n",
       "    </tr>\n",
       "    <tr>\n",
       "      <th>3</th>\n",
       "      <td>A AND J HOLDING CO LTD</td>\n",
       "      <td>32</td>\n",
       "      <td>2023</td>\n",
       "      <td>1</td>\n",
       "      <td>3</td>\n",
       "      <td>1.0</td>\n",
       "      <td>1173.0</td>\n",
       "      <td>5.0</td>\n",
       "      <td>0.0</td>\n",
       "      <td>CN</td>\n",
       "      <td>Richard Li(DME)</td>\n",
       "      <td>Gaming Chen</td>\n",
       "      <td>Top 12 Vendors</td>\n",
       "      <td>None</td>\n",
       "    </tr>\n",
       "    <tr>\n",
       "      <th>4</th>\n",
       "      <td>A AND J HOLDING CO LTD</td>\n",
       "      <td>32</td>\n",
       "      <td>2024</td>\n",
       "      <td>1</td>\n",
       "      <td>1</td>\n",
       "      <td>1.0</td>\n",
       "      <td>1057.0</td>\n",
       "      <td>5.0</td>\n",
       "      <td>0.0</td>\n",
       "      <td>CN</td>\n",
       "      <td>Richard Li(DME)</td>\n",
       "      <td>Gaming Chen</td>\n",
       "      <td>Top 12 Vendors</td>\n",
       "      <td>None</td>\n",
       "    </tr>\n",
       "  </tbody>\n",
       "</table>\n",
       "</div>"
      ],
      "text/plain": [
       "               VendorName Division  Year  Quarter  Month  Complaints  \\\n",
       "0  A AND J HOLDING CO LTD       30  2023        1      1         4.0   \n",
       "1  A AND J HOLDING CO LTD       32  2023        1      1         1.0   \n",
       "2  A AND J HOLDING CO LTD       32  2023        1      2         1.0   \n",
       "3  A AND J HOLDING CO LTD       32  2023        1      3         1.0   \n",
       "4  A AND J HOLDING CO LTD       32  2024        1      1         1.0   \n",
       "\n",
       "   BUOMShipmentQty  #: Items inspected  #: Items reworked Nation  \\\n",
       "0              0.0                 0.0                0.0     CN   \n",
       "1            794.0                 3.0                0.0     CN   \n",
       "2            480.0                 8.0                0.0     CN   \n",
       "3           1173.0                 5.0                0.0     CN   \n",
       "4           1057.0                 5.0                0.0     CN   \n",
       "\n",
       "  Regional Manager Project Leader        Category   CPM  \n",
       "0  Richard Li(DME)    Gaming Chen  Top 12 Vendors  None  \n",
       "1  Richard Li(DME)    Gaming Chen  Top 12 Vendors  None  \n",
       "2  Richard Li(DME)    Gaming Chen  Top 12 Vendors  None  \n",
       "3  Richard Li(DME)    Gaming Chen  Top 12 Vendors  None  \n",
       "4  Richard Li(DME)    Gaming Chen  Top 12 Vendors  None  "
      ]
     },
     "execution_count": 69,
     "metadata": {},
     "output_type": "execute_result"
    }
   ],
   "source": [
    "raw_data.head()"
   ]
  },
  {
   "cell_type": "code",
   "execution_count": 70,
   "metadata": {},
   "outputs": [],
   "source": [
    "raw_data = raw_data[['VendorName',\n",
    "                     'Nation',\n",
    "                     'Project Leader',\n",
    "                     'Regional Manager',\n",
    "                     'Category',\n",
    "                     'Year',\n",
    "                     'Month',\n",
    "                     'Quarter',\n",
    "                     'Division',\n",
    "                     'Complaints',\n",
    "                     'BUOMShipmentQty',\n",
    "                     'CPM',\n",
    "                     '#: Items inspected',\n",
    "                     '#: Items reworked'\n",
    "                     ]]"
   ]
  },
  {
   "cell_type": "code",
   "execution_count": 71,
   "metadata": {},
   "outputs": [],
   "source": [
    "raw_data = raw_data[~(raw_data['Complaints'] + raw_data['BUOMShipmentQty'] + raw_data['#: Items inspected'] + raw_data['#: Items reworked'] == 0)]"
   ]
  },
  {
   "cell_type": "code",
   "execution_count": 72,
   "metadata": {},
   "outputs": [],
   "source": [
    "raw_data.to_excel(f'us_raw_data_{year_month}.xlsx')"
   ]
  },
  {
   "cell_type": "code",
   "execution_count": null,
   "metadata": {},
   "outputs": [],
   "source": []
  }
 ],
 "metadata": {
  "kernelspec": {
   "display_name": "Python 3",
   "language": "python",
   "name": "python3"
  },
  "language_info": {
   "codemirror_mode": {
    "name": "ipython",
    "version": 3
   },
   "file_extension": ".py",
   "mimetype": "text/x-python",
   "name": "python",
   "nbconvert_exporter": "python",
   "pygments_lexer": "ipython3",
   "version": "3.8.0"
  }
 },
 "nbformat": 4,
 "nbformat_minor": 2
}
