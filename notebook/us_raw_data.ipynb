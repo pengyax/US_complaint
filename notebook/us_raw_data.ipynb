{
 "cells": [
  {
   "cell_type": "code",
   "execution_count": 149,
   "metadata": {},
   "outputs": [],
   "source": [
    "import pandas as pd\n",
    "import numpy as np"
   ]
  },
  {
   "cell_type": "code",
   "execution_count": 150,
   "metadata": {},
   "outputs": [],
   "source": [
    "etd = '2023-01-31'\n",
    "Mon = 1"
   ]
  },
  {
   "cell_type": "code",
   "execution_count": 151,
   "metadata": {},
   "outputs": [],
   "source": [
    "vendor_mapping = pd.read_excel(r'C:\\Medline\\2. CPM\\data\\vendor_mapping\\Vendor _mapping 2024_v1.xlsx')\n",
    "vendor_mapping['Vendor Number'] = vendor_mapping['Vendor Number'].map(str)\n",
    "vendor_mapping_dict = dict(zip(vendor_mapping['Vendor Number'],vendor_mapping['Cleaned Vendor Name']))"
   ]
  },
  {
   "cell_type": "code",
   "execution_count": 152,
   "metadata": {},
   "outputs": [],
   "source": [
    "vendor_mapping_dict = dict(zip(vendor_mapping['Vendor Number'],vendor_mapping['Cleaned Vendor Name']))\n",
    "vendor_nation_dict = dict(zip(vendor_mapping['Cleaned Vendor Name'],vendor_mapping['Nation']))\n",
    "vendor_manager_dict = dict(zip(vendor_mapping['Cleaned Vendor Name'],vendor_mapping['Regional Manager']))"
   ]
  },
  {
   "cell_type": "code",
   "execution_count": 153,
   "metadata": {},
   "outputs": [],
   "source": [
    "blitz_vendor_info = pd.read_excel(r'C:\\Medline\\Vendor info\\2024_BlitzVendor.xlsx')\n",
    "blitz_ProjectLeader_dict = dict(zip(blitz_vendor_info['Vendor Name'],blitz_vendor_info['Project Leader']))\n",
    "blitz_Category_dict = dict(zip(blitz_vendor_info['Vendor Name'],blitz_vendor_info['Category']))"
   ]
  },
  {
   "cell_type": "code",
   "execution_count": 154,
   "metadata": {},
   "outputs": [
    {
     "name": "stderr",
     "output_type": "stream",
     "text": [
      "C:\\Users\\ypeng\\AppData\\Local\\Temp\\ipykernel_10428\\2844925773.py:1: FutureWarning: Inferring datetime64[ns] from data containing strings is deprecated and will be removed in a future version. To retain the old behavior explicitly pass Series(data, dtype=datetime64[ns])\n",
      "  df_complaint_21_22 =pd.read_excel(r'C:\\Medline\\2. CPM\\2. US Complaints\\US Complaint Data 201901-202401.xlsx',sheet_name=1)\n"
     ]
    }
   ],
   "source": [
    "df_complaint_21_22 =pd.read_excel(r'C:\\Medline\\2. CPM\\2. US Complaints\\US Complaint Data 201901-202401.xlsx',sheet_name=1)\n",
    "df_complaint_21_22 = df_complaint_21_22.loc[df_complaint_21_22['Year'].isin([2021,2022])]"
   ]
  },
  {
   "cell_type": "code",
   "execution_count": 155,
   "metadata": {},
   "outputs": [],
   "source": [
    "df_complaints_2024 = pd.read_excel(r'C:\\Medline\\2. CPM\\2. US Complaints\\2024\\202401 Complaint Data.xlsx',sheet_name=0)\n",
    "df_complaints_2024.drop(columns='New manufacturing complaints',inplace=True)"
   ]
  },
  {
   "cell_type": "code",
   "execution_count": 156,
   "metadata": {},
   "outputs": [],
   "source": [
    "df_complaints_2023 = pd.read_excel(r'C:\\Medline\\2. CPM\\2. US Complaints\\2023\\202301 Complaint Data.xlsx',sheet_name='2023 Complaint Database')"
   ]
  },
  {
   "cell_type": "code",
   "execution_count": 157,
   "metadata": {},
   "outputs": [],
   "source": [
    "df_complaints = pd.concat([df_complaints_2024,df_complaints_2023,df_complaint_21_22],ignore_index=True)"
   ]
  },
  {
   "cell_type": "code",
   "execution_count": 158,
   "metadata": {},
   "outputs": [],
   "source": [
    "df_complaints_gy = (\n",
    "    df_complaints\n",
    "    .query(\"`If Manufacturing Complaint` == 'Y' and Year.isin([2021,2022,2023,2024])\")\n",
    "    .assign(Quarter =lambda d: d['Notification Created Date'].dt.quarter,\n",
    "            Division = lambda d: d['Division'].map(str))\n",
    "    .groupby(['Vendor Name','Division','Year','Quarter','Month'],as_index=False).size()\n",
    ")\n",
    "df_complaints_gy.rename(columns={'size':'Complaints','Vendor Name':'VendorName'},inplace=True)"
   ]
  },
  {
   "cell_type": "code",
   "execution_count": 159,
   "metadata": {},
   "outputs": [],
   "source": [
    "df_inspection_his = pd.read_excel(r'C:\\Medline\\3. QC trend report\\Asia QC Trend Report 202001_202312.xlsx',sheet_name=0)"
   ]
  },
  {
   "cell_type": "code",
   "execution_count": 160,
   "metadata": {},
   "outputs": [],
   "source": [
    "df_inspection_us_2021_2022 =  df_inspection_his.loc[(df_inspection_his['Branch'] == 'US' ) & (df_inspection_his['Year'].isin([2021,2022])),['Vendors','Division','Year','Quarter','Month','#: Items inspected','#: Items reworked']]\n",
    "df_inspection_us_2023 =  df_inspection_his.loc[(df_inspection_his['Branch'] == 'US' ) & (df_inspection_his['Year'].isin([2023])) & (df_inspection_his['Month']<= Mon),['Vendors','Division','Year','Quarter','Month','#: Items inspected','#: Items reworked']]"
   ]
  },
  {
   "cell_type": "code",
   "execution_count": 161,
   "metadata": {},
   "outputs": [],
   "source": [
    "df_inspection_us_current = pd.read_excel(r'C:\\Medline\\3. QC trend report\\2024\\Excel Report\\Asia QC Trend Report US_202401.xlsx')\n",
    "df_inspection_us_current =  df_inspection_us_current.loc[(df_inspection_us_current['Branch'] == 'US' ) & (df_inspection_us_current['Year'] == 2024),['Vendors','Division','Year','Quarter','Month','#: Items inspected','#: Items reworked']]"
   ]
  },
  {
   "cell_type": "code",
   "execution_count": 162,
   "metadata": {},
   "outputs": [
    {
     "data": {
      "text/html": [
       "<div>\n",
       "<style scoped>\n",
       "    .dataframe tbody tr th:only-of-type {\n",
       "        vertical-align: middle;\n",
       "    }\n",
       "\n",
       "    .dataframe tbody tr th {\n",
       "        vertical-align: top;\n",
       "    }\n",
       "\n",
       "    .dataframe thead th {\n",
       "        text-align: right;\n",
       "    }\n",
       "</style>\n",
       "<table border=\"1\" class=\"dataframe\">\n",
       "  <thead>\n",
       "    <tr style=\"text-align: right;\">\n",
       "      <th></th>\n",
       "      <th>Vendors</th>\n",
       "      <th>Division</th>\n",
       "      <th>Year</th>\n",
       "      <th>Quarter</th>\n",
       "      <th>Month</th>\n",
       "      <th>#: Items inspected</th>\n",
       "      <th>#: Items reworked</th>\n",
       "    </tr>\n",
       "  </thead>\n",
       "  <tbody>\n",
       "    <tr>\n",
       "      <th>0</th>\n",
       "      <td>APEX MEDICAL CORPORATION</td>\n",
       "      <td>75</td>\n",
       "      <td>2024</td>\n",
       "      <td>1</td>\n",
       "      <td>1</td>\n",
       "      <td>2</td>\n",
       "      <td>0</td>\n",
       "    </tr>\n",
       "    <tr>\n",
       "      <th>1</th>\n",
       "      <td>SUZHOU MECCAN IMP AND EXP CORP</td>\n",
       "      <td>14</td>\n",
       "      <td>2024</td>\n",
       "      <td>1</td>\n",
       "      <td>1</td>\n",
       "      <td>4</td>\n",
       "      <td>0</td>\n",
       "    </tr>\n",
       "    <tr>\n",
       "      <th>2</th>\n",
       "      <td>SUZHOU MECCAN IMP AND EXP CORP</td>\n",
       "      <td>15</td>\n",
       "      <td>2024</td>\n",
       "      <td>1</td>\n",
       "      <td>1</td>\n",
       "      <td>0</td>\n",
       "      <td>0</td>\n",
       "    </tr>\n",
       "    <tr>\n",
       "      <th>3</th>\n",
       "      <td>SUZHOU MECCAN IMP AND EXP CORP</td>\n",
       "      <td>18</td>\n",
       "      <td>2024</td>\n",
       "      <td>1</td>\n",
       "      <td>1</td>\n",
       "      <td>0</td>\n",
       "      <td>0</td>\n",
       "    </tr>\n",
       "    <tr>\n",
       "      <th>4</th>\n",
       "      <td>SUZHOU MECCAN IMP AND EXP CORP</td>\n",
       "      <td>20</td>\n",
       "      <td>2024</td>\n",
       "      <td>1</td>\n",
       "      <td>1</td>\n",
       "      <td>0</td>\n",
       "      <td>0</td>\n",
       "    </tr>\n",
       "    <tr>\n",
       "      <th>...</th>\n",
       "      <td>...</td>\n",
       "      <td>...</td>\n",
       "      <td>...</td>\n",
       "      <td>...</td>\n",
       "      <td>...</td>\n",
       "      <td>...</td>\n",
       "      <td>...</td>\n",
       "    </tr>\n",
       "    <tr>\n",
       "      <th>906</th>\n",
       "      <td>JIANERKANG MEDICAL CO LTD</td>\n",
       "      <td>50</td>\n",
       "      <td>2024</td>\n",
       "      <td>1</td>\n",
       "      <td>1</td>\n",
       "      <td>3</td>\n",
       "      <td>0</td>\n",
       "    </tr>\n",
       "    <tr>\n",
       "      <th>907</th>\n",
       "      <td>E WAY VIETNAM COMPANY LIMITED</td>\n",
       "      <td>82</td>\n",
       "      <td>2024</td>\n",
       "      <td>1</td>\n",
       "      <td>1</td>\n",
       "      <td>26</td>\n",
       "      <td>0</td>\n",
       "    </tr>\n",
       "    <tr>\n",
       "      <th>908</th>\n",
       "      <td>FOSHAN NANHAI PLUS MEDICAL CO LTD</td>\n",
       "      <td>51</td>\n",
       "      <td>2024</td>\n",
       "      <td>1</td>\n",
       "      <td>1</td>\n",
       "      <td>2</td>\n",
       "      <td>0</td>\n",
       "    </tr>\n",
       "    <tr>\n",
       "      <th>909</th>\n",
       "      <td>SHANGHAI CHUANGSHI MEDICAL TECHNOLO</td>\n",
       "      <td>60</td>\n",
       "      <td>2024</td>\n",
       "      <td>1</td>\n",
       "      <td>1</td>\n",
       "      <td>6</td>\n",
       "      <td>0</td>\n",
       "    </tr>\n",
       "    <tr>\n",
       "      <th>910</th>\n",
       "      <td>XINGYU MEDICAL TECH CO LTD</td>\n",
       "      <td>40</td>\n",
       "      <td>2024</td>\n",
       "      <td>1</td>\n",
       "      <td>1</td>\n",
       "      <td>36</td>\n",
       "      <td>0</td>\n",
       "    </tr>\n",
       "  </tbody>\n",
       "</table>\n",
       "<p>775 rows × 7 columns</p>\n",
       "</div>"
      ],
      "text/plain": [
       "                                 Vendors Division  Year  Quarter  Month  \\\n",
       "0               APEX MEDICAL CORPORATION       75  2024        1      1   \n",
       "1         SUZHOU MECCAN IMP AND EXP CORP       14  2024        1      1   \n",
       "2         SUZHOU MECCAN IMP AND EXP CORP       15  2024        1      1   \n",
       "3         SUZHOU MECCAN IMP AND EXP CORP       18  2024        1      1   \n",
       "4         SUZHOU MECCAN IMP AND EXP CORP       20  2024        1      1   \n",
       "..                                   ...      ...   ...      ...    ...   \n",
       "906            JIANERKANG MEDICAL CO LTD       50  2024        1      1   \n",
       "907        E WAY VIETNAM COMPANY LIMITED       82  2024        1      1   \n",
       "908    FOSHAN NANHAI PLUS MEDICAL CO LTD       51  2024        1      1   \n",
       "909  SHANGHAI CHUANGSHI MEDICAL TECHNOLO       60  2024        1      1   \n",
       "910           XINGYU MEDICAL TECH CO LTD       40  2024        1      1   \n",
       "\n",
       "     #: Items inspected  #: Items reworked  \n",
       "0                     2                  0  \n",
       "1                     4                  0  \n",
       "2                     0                  0  \n",
       "3                     0                  0  \n",
       "4                     0                  0  \n",
       "..                  ...                ...  \n",
       "906                   3                  0  \n",
       "907                  26                  0  \n",
       "908                   2                  0  \n",
       "909                   6                  0  \n",
       "910                  36                  0  \n",
       "\n",
       "[775 rows x 7 columns]"
      ]
     },
     "execution_count": 162,
     "metadata": {},
     "output_type": "execute_result"
    }
   ],
   "source": [
    "df_inspection_us_current"
   ]
  },
  {
   "cell_type": "code",
   "execution_count": 163,
   "metadata": {},
   "outputs": [],
   "source": [
    "df_inspection = pd.concat([df_inspection_us_current,df_inspection_us_2023,df_inspection_us_2021_2022],ignore_index=True)\n",
    "df_inspection_us_groupby = df_inspection.groupby(['Vendors','Division','Year','Quarter','Month'],as_index=False).sum()"
   ]
  },
  {
   "cell_type": "code",
   "execution_count": 164,
   "metadata": {},
   "outputs": [],
   "source": [
    "df_inspection_us_groupby.rename(columns={'Vendors':'VendorName'},inplace=True)"
   ]
  },
  {
   "cell_type": "code",
   "execution_count": 165,
   "metadata": {},
   "outputs": [],
   "source": [
    "df_inspection_us_groupby['Year'] = df_inspection_us_groupby['Year'].map(int)\n",
    "df_inspection_us_groupby['Quarter'] = df_inspection_us_groupby['Quarter'].map(int)\n",
    "df_inspection_us_groupby['Month'] = df_inspection_us_groupby['Month'].map(int)"
   ]
  },
  {
   "cell_type": "code",
   "execution_count": 166,
   "metadata": {},
   "outputs": [],
   "source": [
    "df_BUOM_2021  = pd.read_excel(r'C:\\Medline\\2. CPM\\4. CPM by BUOM\\BUOM Database\\history\\US_ShippingData_2021.xlsx', usecols='D,E,AB,AP,BI')\n",
    "df_BUOM_2022  = pd.read_excel(r'C:\\Medline\\2. CPM\\4. CPM by BUOM\\BUOM Database\\history\\US_ShippingData_2022.xlsx', usecols='D,E,AB,AP,BI')"
   ]
  },
  {
   "cell_type": "code",
   "execution_count": 167,
   "metadata": {},
   "outputs": [],
   "source": [
    "df_BUOM_2023  = pd.read_excel(r'C:\\Medline\\2. CPM\\4. CPM by BUOM\\BUOM Database\\history\\US BUOM 202312.xlsx', usecols='C,D,H,P,Q')\n",
    "df_BUOM_2023 = df_BUOM_2023.loc[df_BUOM_2023['ShipmentDt'] <= etd]"
   ]
  },
  {
   "cell_type": "code",
   "execution_count": 168,
   "metadata": {},
   "outputs": [],
   "source": [
    "df_BUOM_2024  = pd.read_excel(r'C:\\Medline\\2. CPM\\4. CPM by BUOM\\BUOM Database\\2024\\US\\US BUOM 202401.xlsx', usecols='D,E,P,X,Y')"
   ]
  },
  {
   "cell_type": "code",
   "execution_count": 169,
   "metadata": {},
   "outputs": [],
   "source": [
    "df_us_buom = pd.concat([df_BUOM_2024,df_BUOM_2023,df_BUOM_2022,df_BUOM_2021],ignore_index=True)"
   ]
  },
  {
   "cell_type": "code",
   "execution_count": 170,
   "metadata": {},
   "outputs": [],
   "source": [
    "df_us_buom.dropna(subset=['StrippedVendorNumber'],inplace=True)\n",
    "df_us_buom['Year'] = df_us_buom['ShipmentDt'].dt.year\n",
    "df_us_buom['Quarter'] = df_us_buom['ShipmentDt'].dt.quarter\n",
    "df_us_buom['Month'] = df_us_buom['ShipmentDt'].dt.month"
   ]
  },
  {
   "cell_type": "code",
   "execution_count": 171,
   "metadata": {},
   "outputs": [],
   "source": [
    "df_us_buom.rename(columns={'StrippedVendorNumber':'VendorNumber'},inplace=True)\n",
    "df_us_buom['VendorNumber'] = df_us_buom['VendorNumber'].map(int).map(str)"
   ]
  },
  {
   "cell_type": "code",
   "execution_count": 172,
   "metadata": {},
   "outputs": [],
   "source": [
    "df_us_buom_all = df_us_buom.copy()"
   ]
  },
  {
   "cell_type": "code",
   "execution_count": 173,
   "metadata": {},
   "outputs": [],
   "source": [
    "vendor_mapping_inspection = vendor_mapping.loc[(~vendor_mapping['Regional Manager'].isin(['Exemption','US vendor']))&(vendor_mapping['Regional Manager'].notnull()),'Vendor Number'].to_list()\n",
    "df_us_buom_all = df_us_buom_all.loc[df_us_buom_all['VendorNumber'].isin(vendor_mapping_inspection)]\n",
    "df_us_buom_all['VendorName'] = df_us_buom_all['VendorNumber'].apply(lambda x : vendor_mapping_dict.get(x,np.nan))\n",
    "df_us_buom_all.rename(columns={'ProductDivisionCode':'Division'},inplace=True)\n",
    "df_us_buom_all['Division'] = df_us_buom_all['Division'].map(int).map(str)"
   ]
  },
  {
   "cell_type": "code",
   "execution_count": 174,
   "metadata": {},
   "outputs": [],
   "source": [
    "df_us_buom_gy = df_us_buom_all.groupby(['VendorName','Division','Year','Quarter','Month'],as_index=False)['BUOMShipmentQty'].sum()"
   ]
  },
  {
   "cell_type": "code",
   "execution_count": 175,
   "metadata": {},
   "outputs": [
    {
     "name": "stdout",
     "output_type": "stream",
     "text": [
      "<class 'pandas.core.frame.DataFrame'>\n",
      "RangeIndex: 15301 entries, 0 to 15300\n",
      "Data columns (total 6 columns):\n",
      " #   Column           Non-Null Count  Dtype \n",
      "---  ------           --------------  ----- \n",
      " 0   VendorName       15301 non-null  object\n",
      " 1   Division         15301 non-null  object\n",
      " 2   Year             15301 non-null  int64 \n",
      " 3   Quarter          15301 non-null  int64 \n",
      " 4   Month            15301 non-null  int64 \n",
      " 5   BUOMShipmentQty  15301 non-null  int64 \n",
      "dtypes: int64(4), object(2)\n",
      "memory usage: 717.4+ KB\n"
     ]
    }
   ],
   "source": [
    "df_us_buom_gy.info()"
   ]
  },
  {
   "cell_type": "code",
   "execution_count": 176,
   "metadata": {},
   "outputs": [
    {
     "name": "stdout",
     "output_type": "stream",
     "text": [
      "<class 'pandas.core.frame.DataFrame'>\n",
      "RangeIndex: 1629 entries, 0 to 1628\n",
      "Data columns (total 6 columns):\n",
      " #   Column      Non-Null Count  Dtype \n",
      "---  ------      --------------  ----- \n",
      " 0   VendorName  1629 non-null   object\n",
      " 1   Division    1629 non-null   object\n",
      " 2   Year        1629 non-null   int64 \n",
      " 3   Quarter     1629 non-null   int64 \n",
      " 4   Month       1629 non-null   int64 \n",
      " 5   Complaints  1629 non-null   int64 \n",
      "dtypes: int64(4), object(2)\n",
      "memory usage: 76.5+ KB\n"
     ]
    }
   ],
   "source": [
    "df_complaints_gy.info()"
   ]
  },
  {
   "cell_type": "code",
   "execution_count": 177,
   "metadata": {},
   "outputs": [
    {
     "name": "stdout",
     "output_type": "stream",
     "text": [
      "<class 'pandas.core.frame.DataFrame'>\n",
      "RangeIndex: 16369 entries, 0 to 16368\n",
      "Data columns (total 7 columns):\n",
      " #   Column              Non-Null Count  Dtype \n",
      "---  ------              --------------  ----- \n",
      " 0   VendorName          16369 non-null  object\n",
      " 1   Division            16369 non-null  object\n",
      " 2   Year                16369 non-null  int64 \n",
      " 3   Quarter             16369 non-null  int64 \n",
      " 4   Month               16369 non-null  int64 \n",
      " 5   #: Items inspected  16369 non-null  int64 \n",
      " 6   #: Items reworked   16369 non-null  int64 \n",
      "dtypes: int64(5), object(2)\n",
      "memory usage: 895.3+ KB\n"
     ]
    }
   ],
   "source": [
    "df_inspection_us_groupby.info()"
   ]
  },
  {
   "cell_type": "code",
   "execution_count": 178,
   "metadata": {},
   "outputs": [],
   "source": [
    "raw_data = df_complaints_gy.merge(df_us_buom_gy,how ='outer',on=['VendorName','Division','Year','Quarter','Month']).merge(df_inspection_us_groupby,how = 'outer',on=['VendorName','Division','Year','Quarter','Month']).fillna(0)"
   ]
  },
  {
   "cell_type": "code",
   "execution_count": 179,
   "metadata": {},
   "outputs": [],
   "source": [
    "raw_data['Nation'] = raw_data['VendorName'].apply(lambda x : vendor_nation_dict.get(x,np.nan))\n",
    "raw_data['Regional Manager'] = raw_data['VendorName'].apply(lambda x : vendor_manager_dict.get(x,np.nan))\n",
    "raw_data['Project Leader'] = raw_data['VendorName'].apply(lambda x : blitz_ProjectLeader_dict.get(x,np.nan))\n",
    "raw_data['Category'] = raw_data['VendorName'].apply(lambda x : blitz_Category_dict.get(x,np.nan))\n",
    "raw_data['CPM'] = None"
   ]
  },
  {
   "cell_type": "code",
   "execution_count": 180,
   "metadata": {},
   "outputs": [
    {
     "data": {
      "text/html": [
       "<div>\n",
       "<style scoped>\n",
       "    .dataframe tbody tr th:only-of-type {\n",
       "        vertical-align: middle;\n",
       "    }\n",
       "\n",
       "    .dataframe tbody tr th {\n",
       "        vertical-align: top;\n",
       "    }\n",
       "\n",
       "    .dataframe thead th {\n",
       "        text-align: right;\n",
       "    }\n",
       "</style>\n",
       "<table border=\"1\" class=\"dataframe\">\n",
       "  <thead>\n",
       "    <tr style=\"text-align: right;\">\n",
       "      <th></th>\n",
       "      <th>VendorName</th>\n",
       "      <th>Division</th>\n",
       "      <th>Year</th>\n",
       "      <th>Quarter</th>\n",
       "      <th>Month</th>\n",
       "      <th>Complaints</th>\n",
       "      <th>BUOMShipmentQty</th>\n",
       "      <th>#: Items inspected</th>\n",
       "      <th>#: Items reworked</th>\n",
       "      <th>Nation</th>\n",
       "      <th>Regional Manager</th>\n",
       "      <th>Project Leader</th>\n",
       "      <th>Category</th>\n",
       "      <th>CPM</th>\n",
       "    </tr>\n",
       "  </thead>\n",
       "  <tbody>\n",
       "    <tr>\n",
       "      <th>0</th>\n",
       "      <td>A AND J HOLDING CO LTD</td>\n",
       "      <td>30</td>\n",
       "      <td>2021</td>\n",
       "      <td>1</td>\n",
       "      <td>1</td>\n",
       "      <td>18.0</td>\n",
       "      <td>0.0</td>\n",
       "      <td>0.0</td>\n",
       "      <td>0.0</td>\n",
       "      <td>CN</td>\n",
       "      <td>Richard Li(DME)</td>\n",
       "      <td>Gaming Chen</td>\n",
       "      <td>Top Complaints</td>\n",
       "      <td>None</td>\n",
       "    </tr>\n",
       "    <tr>\n",
       "      <th>1</th>\n",
       "      <td>A AND J HOLDING CO LTD</td>\n",
       "      <td>30</td>\n",
       "      <td>2021</td>\n",
       "      <td>1</td>\n",
       "      <td>2</td>\n",
       "      <td>9.0</td>\n",
       "      <td>0.0</td>\n",
       "      <td>0.0</td>\n",
       "      <td>0.0</td>\n",
       "      <td>CN</td>\n",
       "      <td>Richard Li(DME)</td>\n",
       "      <td>Gaming Chen</td>\n",
       "      <td>Top Complaints</td>\n",
       "      <td>None</td>\n",
       "    </tr>\n",
       "    <tr>\n",
       "      <th>2</th>\n",
       "      <td>A AND J HOLDING CO LTD</td>\n",
       "      <td>30</td>\n",
       "      <td>2021</td>\n",
       "      <td>1</td>\n",
       "      <td>3</td>\n",
       "      <td>16.0</td>\n",
       "      <td>0.0</td>\n",
       "      <td>0.0</td>\n",
       "      <td>0.0</td>\n",
       "      <td>CN</td>\n",
       "      <td>Richard Li(DME)</td>\n",
       "      <td>Gaming Chen</td>\n",
       "      <td>Top Complaints</td>\n",
       "      <td>None</td>\n",
       "    </tr>\n",
       "    <tr>\n",
       "      <th>3</th>\n",
       "      <td>A AND J HOLDING CO LTD</td>\n",
       "      <td>30</td>\n",
       "      <td>2021</td>\n",
       "      <td>2</td>\n",
       "      <td>4</td>\n",
       "      <td>10.0</td>\n",
       "      <td>0.0</td>\n",
       "      <td>0.0</td>\n",
       "      <td>0.0</td>\n",
       "      <td>CN</td>\n",
       "      <td>Richard Li(DME)</td>\n",
       "      <td>Gaming Chen</td>\n",
       "      <td>Top Complaints</td>\n",
       "      <td>None</td>\n",
       "    </tr>\n",
       "    <tr>\n",
       "      <th>4</th>\n",
       "      <td>A AND J HOLDING CO LTD</td>\n",
       "      <td>30</td>\n",
       "      <td>2021</td>\n",
       "      <td>2</td>\n",
       "      <td>5</td>\n",
       "      <td>4.0</td>\n",
       "      <td>0.0</td>\n",
       "      <td>0.0</td>\n",
       "      <td>0.0</td>\n",
       "      <td>CN</td>\n",
       "      <td>Richard Li(DME)</td>\n",
       "      <td>Gaming Chen</td>\n",
       "      <td>Top Complaints</td>\n",
       "      <td>None</td>\n",
       "    </tr>\n",
       "  </tbody>\n",
       "</table>\n",
       "</div>"
      ],
      "text/plain": [
       "               VendorName Division  Year  Quarter  Month  Complaints  \\\n",
       "0  A AND J HOLDING CO LTD       30  2021        1      1        18.0   \n",
       "1  A AND J HOLDING CO LTD       30  2021        1      2         9.0   \n",
       "2  A AND J HOLDING CO LTD       30  2021        1      3        16.0   \n",
       "3  A AND J HOLDING CO LTD       30  2021        2      4        10.0   \n",
       "4  A AND J HOLDING CO LTD       30  2021        2      5         4.0   \n",
       "\n",
       "   BUOMShipmentQty  #: Items inspected  #: Items reworked Nation  \\\n",
       "0              0.0                 0.0                0.0     CN   \n",
       "1              0.0                 0.0                0.0     CN   \n",
       "2              0.0                 0.0                0.0     CN   \n",
       "3              0.0                 0.0                0.0     CN   \n",
       "4              0.0                 0.0                0.0     CN   \n",
       "\n",
       "  Regional Manager Project Leader        Category   CPM  \n",
       "0  Richard Li(DME)    Gaming Chen  Top Complaints  None  \n",
       "1  Richard Li(DME)    Gaming Chen  Top Complaints  None  \n",
       "2  Richard Li(DME)    Gaming Chen  Top Complaints  None  \n",
       "3  Richard Li(DME)    Gaming Chen  Top Complaints  None  \n",
       "4  Richard Li(DME)    Gaming Chen  Top Complaints  None  "
      ]
     },
     "execution_count": 180,
     "metadata": {},
     "output_type": "execute_result"
    }
   ],
   "source": [
    "raw_data.head()"
   ]
  },
  {
   "cell_type": "code",
   "execution_count": 181,
   "metadata": {},
   "outputs": [],
   "source": [
    "raw_data = raw_data[['VendorName',\n",
    "                     'Nation',\n",
    "                     'Project Leader',\n",
    "                     'Regional Manager',\n",
    "                     'Category',\n",
    "                     'Year',\n",
    "                     'Month',\n",
    "                     'Quarter',\n",
    "                     'Division',\n",
    "                     'Complaints',\n",
    "                     'BUOMShipmentQty',\n",
    "                     'CPM',\n",
    "                     '#: Items inspected',\n",
    "                     '#: Items reworked'\n",
    "                     ]]"
   ]
  },
  {
   "cell_type": "code",
   "execution_count": 185,
   "metadata": {},
   "outputs": [],
   "source": [
    "raw_data = raw_data[~(raw_data['Complaints'] + raw_data['BUOMShipmentQty'] + raw_data['#: Items inspected'] + raw_data['#: Items reworked'] == 0)]"
   ]
  },
  {
   "cell_type": "code",
   "execution_count": 186,
   "metadata": {},
   "outputs": [],
   "source": [
    "raw_data.to_excel('us_raw_data.xlsx')"
   ]
  },
  {
   "cell_type": "code",
   "execution_count": null,
   "metadata": {},
   "outputs": [],
   "source": []
  }
 ],
 "metadata": {
  "kernelspec": {
   "display_name": "Python 3",
   "language": "python",
   "name": "python3"
  },
  "language_info": {
   "codemirror_mode": {
    "name": "ipython",
    "version": 3
   },
   "file_extension": ".py",
   "mimetype": "text/x-python",
   "name": "python",
   "nbconvert_exporter": "python",
   "pygments_lexer": "ipython3",
   "version": "3.8.0"
  }
 },
 "nbformat": 4,
 "nbformat_minor": 2
}
