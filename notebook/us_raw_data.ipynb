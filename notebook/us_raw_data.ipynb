{
 "cells": [
  {
   "cell_type": "code",
   "execution_count": 61,
   "metadata": {},
   "outputs": [],
   "source": [
    "import pandas as pd\n",
    "import numpy as np\n",
    "from datetime import datetime, timedelta\n",
    "from itertools import cycle"
   ]
  },
  {
   "cell_type": "code",
   "execution_count": 69,
   "metadata": {},
   "outputs": [],
   "source": [
    "year_month = '202412'"
   ]
  },
  {
   "cell_type": "code",
   "execution_count": 71,
   "metadata": {},
   "outputs": [
    {
     "name": "stdout",
     "output_type": "stream",
     "text": [
      "Previous year month: 202312\n",
      "ETD (End of the month of the previous year): 2023-12-31\n",
      "12\n"
     ]
    }
   ],
   "source": [
    "# 解析年月字符串\n",
    "year_month_dt = datetime.strptime(year_month, '%Y%m')\n",
    "\n",
    "# 计算去年同期的年和月\n",
    "previous_year = year_month_dt.year - 1\n",
    "previous_month = year_month_dt.month\n",
    "\n",
    "Mon = previous_month\n",
    "\n",
    "# 格式化去年同期的年月\n",
    "previous_year_month = f\"{previous_year:04d}{previous_month:02d}\"\n",
    "\n",
    "# 计算去年同期月份的第一天\n",
    "previous_month_first_day = year_month_dt.replace(year=previous_year, month=previous_month, day=1)\n",
    "\n",
    "# 计算去年同期月份的最后一天\n",
    "etd = (previous_month_first_day + timedelta(days=31)).replace(day=1) - timedelta(days=1)\n",
    "etd = etd.strftime('%Y-%m-%d')\n",
    "\n",
    "# 输出结果\n",
    "print(f\"Previous year month: {previous_year_month}\")\n",
    "print(f\"ETD (End of the month of the previous year): {etd}\")\n",
    "print(Mon)"
   ]
  },
  {
   "cell_type": "code",
   "execution_count": null,
   "metadata": {},
   "outputs": [],
   "source": [
    "vendor_mapping = pd.read_excel(r'C:\\Medline\\2. CPM\\data\\vendor_mapping\\Vendor _mapping 2024_v1.xlsx')\n",
    "vendor_mapping['Vendor Number'] = vendor_mapping['Vendor Number'].map(str)\n",
    "vendor_mapping_dict = dict(zip(vendor_mapping['Vendor Number'],vendor_mapping['Cleaned Vendor Name']))"
   ]
  },
  {
   "cell_type": "code",
   "execution_count": null,
   "metadata": {},
   "outputs": [],
   "source": [
    "vendor_mapping_dict = dict(zip(vendor_mapping['Vendor Number'],vendor_mapping['Cleaned Vendor Name']))\n",
    "vendor_nation_dict = dict(zip(vendor_mapping['Cleaned Vendor Name'],vendor_mapping['Nation']))\n",
    "vendor_manager_dict = dict(zip(vendor_mapping['Cleaned Vendor Name'],vendor_mapping['Regional Manager']))"
   ]
  },
  {
   "cell_type": "code",
   "execution_count": null,
   "metadata": {},
   "outputs": [],
   "source": [
    "blitz_vendor_info = pd.read_excel(r'C:\\Medline\\Vendor info\\2024_BlitzVendor.xlsx')\n",
    "blitz_ProjectLeader_dict = dict(zip(blitz_vendor_info['Vendor Name'],blitz_vendor_info['Project Leader']))\n",
    "blitz_Category_dict = dict(zip(blitz_vendor_info['Vendor Name'],blitz_vendor_info['Category']))"
   ]
  },
  {
   "cell_type": "code",
   "execution_count": null,
   "metadata": {},
   "outputs": [
    {
     "name": "stderr",
     "output_type": "stream",
     "text": [
      "C:\\Users\\ypeng\\AppData\\Local\\Temp\\ipykernel_20060\\2844925773.py:1: FutureWarning: Inferring datetime64[ns] from data containing strings is deprecated and will be removed in a future version. To retain the old behavior explicitly pass Series(data, dtype=datetime64[ns])\n",
      "  df_complaint_21_22 =pd.read_excel(r'C:\\Medline\\2. CPM\\2. US Complaints\\US Complaint Data 201901-202401.xlsx',sheet_name=1)\n"
     ]
    }
   ],
   "source": [
    "df_complaint_21_22 =pd.read_excel(r'C:\\Medline\\2. CPM\\2. US Complaints\\US Complaint Data 201901-202401.xlsx',sheet_name=1)\n",
    "df_complaint_21_22 = df_complaint_21_22.loc[df_complaint_21_22['Year'].isin([2021,2022])]"
   ]
  },
  {
   "cell_type": "code",
   "execution_count": null,
   "metadata": {},
   "outputs": [],
   "source": [
    "df_complaints_2024 = pd.read_excel(r'C:\\Medline\\2. CPM\\2. US Complaints\\2024\\{} Complaint Data.xlsx'.format(year_month),sheet_name='2024 Complaint Database')\n",
    "df_complaints_2024.drop(columns='New manufacturing complaints',inplace=True)"
   ]
  },
  {
   "cell_type": "code",
   "execution_count": null,
   "metadata": {},
   "outputs": [],
   "source": [
    "df_complaints_2023 = pd.read_excel(r'C:\\Medline\\2. CPM\\2. US Complaints\\2023\\{} Complaint Data.xlsx'.format(previous_year_month),sheet_name='2023 Complaint Database')"
   ]
  },
  {
   "cell_type": "code",
   "execution_count": null,
   "metadata": {},
   "outputs": [],
   "source": [
    "df_complaints = pd.concat([df_complaints_2024,df_complaints_2023,df_complaint_21_22],ignore_index=True)"
   ]
  },
  {
   "cell_type": "code",
   "execution_count": null,
   "metadata": {},
   "outputs": [],
   "source": [
    "# df_blitz = pd.concat([df_complaints_2024,df_complaints_2023],ignore_index=True)\n",
    "# df_blitz.to_excel('blitz_complaints.xlsx',index=False)"
   ]
  },
  {
   "cell_type": "code",
   "execution_count": null,
   "metadata": {},
   "outputs": [],
   "source": [
    "df_complaints_gy = (\n",
    "    df_complaints\n",
    "    .query(\"`If Manufacturing Complaint` == 'Y' and Year.isin([2021,2022,2023,2024])\")\n",
    "    .assign(Quarter =lambda d: d['Notification Created Date'].dt.quarter,\n",
    "            Division = lambda d: d['Division'].map(str))\n",
    "    .groupby(['Vendor Name','Division','Year','Quarter','Month'],as_index=False).size()\n",
    ")\n",
    "df_complaints_gy.rename(columns={'size':'Complaints','Vendor Name':'VendorName'},inplace=True)"
   ]
  },
  {
   "cell_type": "code",
   "execution_count": null,
   "metadata": {},
   "outputs": [],
   "source": [
    "df_inspection_his = pd.read_excel(r'C:\\Medline\\3. QC trend report\\Asia QC Trend Report 202001_202312.xlsx',sheet_name=0)"
   ]
  },
  {
   "cell_type": "code",
   "execution_count": null,
   "metadata": {},
   "outputs": [],
   "source": [
    "df_inspection_us_2021_2022 =  df_inspection_his.loc[(df_inspection_his['Branch'] == 'US' ) & (df_inspection_his['Year'].isin([2021,2022])),['Vendors','Division','Year','Quarter','Month','#: Items inspected','#: Items reworked']]\n",
    "df_inspection_us_2023 =  df_inspection_his.loc[(df_inspection_his['Branch'] == 'US' ) & (df_inspection_his['Year'].isin([2023])) & (df_inspection_his['Month']<= Mon),['Vendors','Division','Year','Quarter','Month','#: Items inspected','#: Items reworked']]"
   ]
  },
  {
   "cell_type": "code",
   "execution_count": null,
   "metadata": {},
   "outputs": [],
   "source": [
    "df_inspection_us_current = pd.read_excel(r'C:\\Medline\\3. QC trend report\\2024\\Excel Report\\Asia QC Trend Report US_202402.xlsx',sheet_name='Overall')\n",
    "df_inspection_us_current =  df_inspection_us_current.loc[(df_inspection_us_current['Branch'] == 'US' ) & (df_inspection_us_current['Year'] == 2024),['Vendors','Division','Year','Quarter','Month','#: Items inspected','#: Items reworked']]"
   ]
  },
  {
   "cell_type": "code",
   "execution_count": null,
   "metadata": {},
   "outputs": [
    {
     "data": {
      "text/html": [
       "<div>\n",
       "<style scoped>\n",
       "    .dataframe tbody tr th:only-of-type {\n",
       "        vertical-align: middle;\n",
       "    }\n",
       "\n",
       "    .dataframe tbody tr th {\n",
       "        vertical-align: top;\n",
       "    }\n",
       "\n",
       "    .dataframe thead th {\n",
       "        text-align: right;\n",
       "    }\n",
       "</style>\n",
       "<table border=\"1\" class=\"dataframe\">\n",
       "  <thead>\n",
       "    <tr style=\"text-align: right;\">\n",
       "      <th></th>\n",
       "      <th>Vendors</th>\n",
       "      <th>Division</th>\n",
       "      <th>Year</th>\n",
       "      <th>Quarter</th>\n",
       "      <th>Month</th>\n",
       "      <th>#: Items inspected</th>\n",
       "      <th>#: Items reworked</th>\n",
       "    </tr>\n",
       "  </thead>\n",
       "  <tbody>\n",
       "    <tr>\n",
       "      <th>0</th>\n",
       "      <td>APEX MEDICAL CORPORATION</td>\n",
       "      <td>75</td>\n",
       "      <td>2024.0</td>\n",
       "      <td>1.0</td>\n",
       "      <td>1.0</td>\n",
       "      <td>2</td>\n",
       "      <td>0</td>\n",
       "    </tr>\n",
       "    <tr>\n",
       "      <th>1</th>\n",
       "      <td>SUZHOU MECCAN IMP AND EXP CORP</td>\n",
       "      <td>14</td>\n",
       "      <td>2024.0</td>\n",
       "      <td>1.0</td>\n",
       "      <td>1.0</td>\n",
       "      <td>4</td>\n",
       "      <td>0</td>\n",
       "    </tr>\n",
       "    <tr>\n",
       "      <th>2</th>\n",
       "      <td>SUZHOU MECCAN IMP AND EXP CORP</td>\n",
       "      <td>15</td>\n",
       "      <td>2024.0</td>\n",
       "      <td>1.0</td>\n",
       "      <td>1.0</td>\n",
       "      <td>0</td>\n",
       "      <td>0</td>\n",
       "    </tr>\n",
       "    <tr>\n",
       "      <th>3</th>\n",
       "      <td>SUZHOU MECCAN IMP AND EXP CORP</td>\n",
       "      <td>18</td>\n",
       "      <td>2024.0</td>\n",
       "      <td>1.0</td>\n",
       "      <td>1.0</td>\n",
       "      <td>0</td>\n",
       "      <td>0</td>\n",
       "    </tr>\n",
       "    <tr>\n",
       "      <th>4</th>\n",
       "      <td>SUZHOU MECCAN IMP AND EXP CORP</td>\n",
       "      <td>20</td>\n",
       "      <td>2024.0</td>\n",
       "      <td>1.0</td>\n",
       "      <td>1.0</td>\n",
       "      <td>0</td>\n",
       "      <td>0</td>\n",
       "    </tr>\n",
       "    <tr>\n",
       "      <th>...</th>\n",
       "      <td>...</td>\n",
       "      <td>...</td>\n",
       "      <td>...</td>\n",
       "      <td>...</td>\n",
       "      <td>...</td>\n",
       "      <td>...</td>\n",
       "      <td>...</td>\n",
       "    </tr>\n",
       "    <tr>\n",
       "      <th>1638</th>\n",
       "      <td>SHANGHAI CHUANGSHI MEDICAL TECHNOLO</td>\n",
       "      <td>60</td>\n",
       "      <td>2024.0</td>\n",
       "      <td>1.0</td>\n",
       "      <td>1.0</td>\n",
       "      <td>6</td>\n",
       "      <td>0</td>\n",
       "    </tr>\n",
       "    <tr>\n",
       "      <th>1639</th>\n",
       "      <td>SHANGHAI CHUANGSHI MEDICAL TECHNOLO</td>\n",
       "      <td>60</td>\n",
       "      <td>2024.0</td>\n",
       "      <td>1.0</td>\n",
       "      <td>2.0</td>\n",
       "      <td>4</td>\n",
       "      <td>0</td>\n",
       "    </tr>\n",
       "    <tr>\n",
       "      <th>1640</th>\n",
       "      <td>XINGYU MEDICAL TECH CO LTD</td>\n",
       "      <td>40</td>\n",
       "      <td>2024.0</td>\n",
       "      <td>1.0</td>\n",
       "      <td>1.0</td>\n",
       "      <td>36</td>\n",
       "      <td>0</td>\n",
       "    </tr>\n",
       "    <tr>\n",
       "      <th>1641</th>\n",
       "      <td>XINGYU MEDICAL TECH CO LTD</td>\n",
       "      <td>40</td>\n",
       "      <td>2024.0</td>\n",
       "      <td>1.0</td>\n",
       "      <td>2.0</td>\n",
       "      <td>12</td>\n",
       "      <td>0</td>\n",
       "    </tr>\n",
       "    <tr>\n",
       "      <th>1642</th>\n",
       "      <td>MIQRAZ SURGICAL INDUSTRIES</td>\n",
       "      <td>20</td>\n",
       "      <td>2024.0</td>\n",
       "      <td>1.0</td>\n",
       "      <td>2.0</td>\n",
       "      <td>1</td>\n",
       "      <td>0</td>\n",
       "    </tr>\n",
       "  </tbody>\n",
       "</table>\n",
       "<p>1394 rows × 7 columns</p>\n",
       "</div>"
      ],
      "text/plain": [
       "                                  Vendors Division    Year  Quarter  Month  \\\n",
       "0                APEX MEDICAL CORPORATION       75  2024.0      1.0    1.0   \n",
       "1          SUZHOU MECCAN IMP AND EXP CORP       14  2024.0      1.0    1.0   \n",
       "2          SUZHOU MECCAN IMP AND EXP CORP       15  2024.0      1.0    1.0   \n",
       "3          SUZHOU MECCAN IMP AND EXP CORP       18  2024.0      1.0    1.0   \n",
       "4          SUZHOU MECCAN IMP AND EXP CORP       20  2024.0      1.0    1.0   \n",
       "...                                   ...      ...     ...      ...    ...   \n",
       "1638  SHANGHAI CHUANGSHI MEDICAL TECHNOLO       60  2024.0      1.0    1.0   \n",
       "1639  SHANGHAI CHUANGSHI MEDICAL TECHNOLO       60  2024.0      1.0    2.0   \n",
       "1640           XINGYU MEDICAL TECH CO LTD       40  2024.0      1.0    1.0   \n",
       "1641           XINGYU MEDICAL TECH CO LTD       40  2024.0      1.0    2.0   \n",
       "1642           MIQRAZ SURGICAL INDUSTRIES       20  2024.0      1.0    2.0   \n",
       "\n",
       "      #: Items inspected  #: Items reworked  \n",
       "0                      2                  0  \n",
       "1                      4                  0  \n",
       "2                      0                  0  \n",
       "3                      0                  0  \n",
       "4                      0                  0  \n",
       "...                  ...                ...  \n",
       "1638                   6                  0  \n",
       "1639                   4                  0  \n",
       "1640                  36                  0  \n",
       "1641                  12                  0  \n",
       "1642                   1                  0  \n",
       "\n",
       "[1394 rows x 7 columns]"
      ]
     },
     "execution_count": 16,
     "metadata": {},
     "output_type": "execute_result"
    }
   ],
   "source": [
    "df_inspection_us_current"
   ]
  },
  {
   "cell_type": "code",
   "execution_count": null,
   "metadata": {},
   "outputs": [],
   "source": [
    "df_inspection = pd.concat([df_inspection_us_current,df_inspection_us_2023,df_inspection_us_2021_2022],ignore_index=True)\n",
    "df_inspection_us_groupby = df_inspection.groupby(['Vendors','Division','Year','Quarter','Month'],as_index=False).sum()"
   ]
  },
  {
   "cell_type": "code",
   "execution_count": null,
   "metadata": {},
   "outputs": [],
   "source": [
    "df_inspection_us_groupby.rename(columns={'Vendors':'VendorName'},inplace=True)"
   ]
  },
  {
   "cell_type": "code",
   "execution_count": null,
   "metadata": {},
   "outputs": [],
   "source": [
    "df_inspection_us_groupby['Year'] = df_inspection_us_groupby['Year'].map(int)\n",
    "df_inspection_us_groupby['Quarter'] = df_inspection_us_groupby['Quarter'].map(int)\n",
    "df_inspection_us_groupby['Month'] = df_inspection_us_groupby['Month'].map(int)"
   ]
  },
  {
   "cell_type": "code",
   "execution_count": null,
   "metadata": {},
   "outputs": [],
   "source": [
    "df_BUOM_2021  = pd.read_excel(r'C:\\Medline\\2. CPM\\4. CPM by BUOM\\BUOM Database\\history\\US_ShippingData_2021.xlsx', usecols='D,E,AB,AP,BI')\n",
    "df_BUOM_2022  = pd.read_excel(r'C:\\Medline\\2. CPM\\4. CPM by BUOM\\BUOM Database\\history\\US_ShippingData_2022.xlsx', usecols='D,E,AB,AP,BI')"
   ]
  },
  {
   "cell_type": "code",
   "execution_count": null,
   "metadata": {},
   "outputs": [],
   "source": [
    "df_BUOM_2023  = pd.read_excel(r'C:\\Medline\\2. CPM\\4. CPM by BUOM\\BUOM Database\\history\\US BUOM 202312.xlsx', usecols='C,D,H,P,Q')\n",
    "df_BUOM_2023 = df_BUOM_2023.loc[df_BUOM_2023['ShipmentDt'] <= etd]"
   ]
  },
  {
   "cell_type": "code",
   "execution_count": null,
   "metadata": {},
   "outputs": [],
   "source": [
    "df_BUOM_2024  = pd.read_excel(r'C:\\Medline\\2. CPM\\4. CPM by BUOM\\BUOM Database\\2024\\US\\US BUOM {}.xlsx'.format(year_month), usecols='D,E,P,X,Y')"
   ]
  },
  {
   "cell_type": "code",
   "execution_count": null,
   "metadata": {},
   "outputs": [],
   "source": [
    "df_us_buom = pd.concat([df_BUOM_2024,df_BUOM_2023,df_BUOM_2022,df_BUOM_2021],ignore_index=True)"
   ]
  },
  {
   "cell_type": "code",
   "execution_count": null,
   "metadata": {},
   "outputs": [],
   "source": [
    "df_us_buom.dropna(subset=['StrippedVendorNumber'],inplace=True)\n",
    "df_us_buom['Year'] = df_us_buom['ShipmentDt'].dt.year\n",
    "df_us_buom['Quarter'] = df_us_buom['ShipmentDt'].dt.quarter\n",
    "df_us_buom['Month'] = df_us_buom['ShipmentDt'].dt.month"
   ]
  },
  {
   "cell_type": "code",
   "execution_count": null,
   "metadata": {},
   "outputs": [],
   "source": [
    "df_us_buom.rename(columns={'StrippedVendorNumber':'VendorNumber'},inplace=True)\n",
    "df_us_buom['VendorNumber'] = df_us_buom['VendorNumber'].map(int).map(str)"
   ]
  },
  {
   "cell_type": "code",
   "execution_count": null,
   "metadata": {},
   "outputs": [],
   "source": [
    "df_us_buom_all = df_us_buom.copy()"
   ]
  },
  {
   "cell_type": "code",
   "execution_count": null,
   "metadata": {},
   "outputs": [],
   "source": [
    "vendor_mapping_inspection = vendor_mapping.loc[(~vendor_mapping['Regional Manager'].isin(['Exemption','US vendor']))&(vendor_mapping['Regional Manager'].notnull()),'Vendor Number'].to_list()\n",
    "df_us_buom_all = df_us_buom_all.loc[df_us_buom_all['VendorNumber'].isin(vendor_mapping_inspection)]\n",
    "df_us_buom_all['VendorName'] = df_us_buom_all['VendorNumber'].apply(lambda x : vendor_mapping_dict.get(x,np.nan))\n",
    "df_us_buom_all.rename(columns={'ProductDivisionCode':'Division'},inplace=True)\n",
    "df_us_buom_all['Division'] = df_us_buom_all['Division'].map(int).map(str)"
   ]
  },
  {
   "cell_type": "code",
   "execution_count": null,
   "metadata": {},
   "outputs": [],
   "source": [
    "df_us_buom_gy = df_us_buom_all.groupby(['VendorName','Division','Year','Quarter','Month'],as_index=False)['BUOMShipmentQty'].sum()"
   ]
  },
  {
   "cell_type": "code",
   "execution_count": null,
   "metadata": {},
   "outputs": [
    {
     "name": "stdout",
     "output_type": "stream",
     "text": [
      "<class 'pandas.core.frame.DataFrame'>\n",
      "RangeIndex: 16668 entries, 0 to 16667\n",
      "Data columns (total 6 columns):\n",
      " #   Column           Non-Null Count  Dtype \n",
      "---  ------           --------------  ----- \n",
      " 0   VendorName       16668 non-null  object\n",
      " 1   Division         16668 non-null  object\n",
      " 2   Year             16668 non-null  int64 \n",
      " 3   Quarter          16668 non-null  int64 \n",
      " 4   Month            16668 non-null  int64 \n",
      " 5   BUOMShipmentQty  16668 non-null  int64 \n",
      "dtypes: int64(4), object(2)\n",
      "memory usage: 781.4+ KB\n"
     ]
    }
   ],
   "source": [
    "df_us_buom_gy.info()"
   ]
  },
  {
   "cell_type": "code",
   "execution_count": null,
   "metadata": {},
   "outputs": [
    {
     "name": "stdout",
     "output_type": "stream",
     "text": [
      "<class 'pandas.core.frame.DataFrame'>\n",
      "RangeIndex: 1761 entries, 0 to 1760\n",
      "Data columns (total 6 columns):\n",
      " #   Column      Non-Null Count  Dtype \n",
      "---  ------      --------------  ----- \n",
      " 0   VendorName  1761 non-null   object\n",
      " 1   Division    1761 non-null   object\n",
      " 2   Year        1761 non-null   int64 \n",
      " 3   Quarter     1761 non-null   int64 \n",
      " 4   Month       1761 non-null   int64 \n",
      " 5   Complaints  1761 non-null   int64 \n",
      "dtypes: int64(4), object(2)\n",
      "memory usage: 82.7+ KB\n"
     ]
    }
   ],
   "source": [
    "df_complaints_gy.info()"
   ]
  },
  {
   "cell_type": "code",
   "execution_count": null,
   "metadata": {},
   "outputs": [
    {
     "name": "stdout",
     "output_type": "stream",
     "text": [
      "<class 'pandas.core.frame.DataFrame'>\n",
      "RangeIndex: 17651 entries, 0 to 17650\n",
      "Data columns (total 7 columns):\n",
      " #   Column              Non-Null Count  Dtype \n",
      "---  ------              --------------  ----- \n",
      " 0   VendorName          17651 non-null  object\n",
      " 1   Division            17651 non-null  object\n",
      " 2   Year                17651 non-null  int64 \n",
      " 3   Quarter             17651 non-null  int64 \n",
      " 4   Month               17651 non-null  int64 \n",
      " 5   #: Items inspected  17651 non-null  int64 \n",
      " 6   #: Items reworked   17651 non-null  int64 \n",
      "dtypes: int64(5), object(2)\n",
      "memory usage: 965.4+ KB\n"
     ]
    }
   ],
   "source": [
    "df_inspection_us_groupby.info()"
   ]
  },
  {
   "cell_type": "code",
   "execution_count": null,
   "metadata": {},
   "outputs": [],
   "source": [
    "raw_data = df_complaints_gy.merge(df_us_buom_gy,how ='outer',on=['VendorName','Division','Year','Quarter','Month']).merge(df_inspection_us_groupby,how = 'outer',on=['VendorName','Division','Year','Quarter','Month']).fillna(0)"
   ]
  },
  {
   "cell_type": "code",
   "execution_count": null,
   "metadata": {},
   "outputs": [],
   "source": [
    "raw_data['Nation'] = raw_data['VendorName'].apply(lambda x : vendor_nation_dict.get(x,np.nan))\n",
    "raw_data['Regional Manager'] = raw_data['VendorName'].apply(lambda x : vendor_manager_dict.get(x,np.nan))\n",
    "raw_data['Project Leader'] = raw_data['VendorName'].apply(lambda x : blitz_ProjectLeader_dict.get(x,np.nan))\n",
    "raw_data['Category'] = raw_data['VendorName'].apply(lambda x : blitz_Category_dict.get(x,np.nan))\n",
    "raw_data['CPM'] = None"
   ]
  },
  {
   "cell_type": "code",
   "execution_count": null,
   "metadata": {},
   "outputs": [
    {
     "data": {
      "text/html": [
       "<div>\n",
       "<style scoped>\n",
       "    .dataframe tbody tr th:only-of-type {\n",
       "        vertical-align: middle;\n",
       "    }\n",
       "\n",
       "    .dataframe tbody tr th {\n",
       "        vertical-align: top;\n",
       "    }\n",
       "\n",
       "    .dataframe thead th {\n",
       "        text-align: right;\n",
       "    }\n",
       "</style>\n",
       "<table border=\"1\" class=\"dataframe\">\n",
       "  <thead>\n",
       "    <tr style=\"text-align: right;\">\n",
       "      <th></th>\n",
       "      <th>VendorName</th>\n",
       "      <th>Division</th>\n",
       "      <th>Year</th>\n",
       "      <th>Quarter</th>\n",
       "      <th>Month</th>\n",
       "      <th>Complaints</th>\n",
       "      <th>BUOMShipmentQty</th>\n",
       "      <th>#: Items inspected</th>\n",
       "      <th>#: Items reworked</th>\n",
       "      <th>Nation</th>\n",
       "      <th>Regional Manager</th>\n",
       "      <th>Project Leader</th>\n",
       "      <th>Category</th>\n",
       "      <th>CPM</th>\n",
       "    </tr>\n",
       "  </thead>\n",
       "  <tbody>\n",
       "    <tr>\n",
       "      <th>0</th>\n",
       "      <td>A AND J HOLDING CO LTD</td>\n",
       "      <td>30</td>\n",
       "      <td>2021</td>\n",
       "      <td>1</td>\n",
       "      <td>1</td>\n",
       "      <td>18.0</td>\n",
       "      <td>0.0</td>\n",
       "      <td>0.0</td>\n",
       "      <td>0.0</td>\n",
       "      <td>CN</td>\n",
       "      <td>Richard Li(DME)</td>\n",
       "      <td>Gaming Chen</td>\n",
       "      <td>Top 12 Vendors</td>\n",
       "      <td>None</td>\n",
       "    </tr>\n",
       "    <tr>\n",
       "      <th>1</th>\n",
       "      <td>A AND J HOLDING CO LTD</td>\n",
       "      <td>30</td>\n",
       "      <td>2021</td>\n",
       "      <td>1</td>\n",
       "      <td>2</td>\n",
       "      <td>9.0</td>\n",
       "      <td>0.0</td>\n",
       "      <td>0.0</td>\n",
       "      <td>0.0</td>\n",
       "      <td>CN</td>\n",
       "      <td>Richard Li(DME)</td>\n",
       "      <td>Gaming Chen</td>\n",
       "      <td>Top 12 Vendors</td>\n",
       "      <td>None</td>\n",
       "    </tr>\n",
       "    <tr>\n",
       "      <th>2</th>\n",
       "      <td>A AND J HOLDING CO LTD</td>\n",
       "      <td>30</td>\n",
       "      <td>2021</td>\n",
       "      <td>1</td>\n",
       "      <td>3</td>\n",
       "      <td>16.0</td>\n",
       "      <td>0.0</td>\n",
       "      <td>0.0</td>\n",
       "      <td>0.0</td>\n",
       "      <td>CN</td>\n",
       "      <td>Richard Li(DME)</td>\n",
       "      <td>Gaming Chen</td>\n",
       "      <td>Top 12 Vendors</td>\n",
       "      <td>None</td>\n",
       "    </tr>\n",
       "    <tr>\n",
       "      <th>3</th>\n",
       "      <td>A AND J HOLDING CO LTD</td>\n",
       "      <td>30</td>\n",
       "      <td>2021</td>\n",
       "      <td>2</td>\n",
       "      <td>4</td>\n",
       "      <td>10.0</td>\n",
       "      <td>0.0</td>\n",
       "      <td>0.0</td>\n",
       "      <td>0.0</td>\n",
       "      <td>CN</td>\n",
       "      <td>Richard Li(DME)</td>\n",
       "      <td>Gaming Chen</td>\n",
       "      <td>Top 12 Vendors</td>\n",
       "      <td>None</td>\n",
       "    </tr>\n",
       "    <tr>\n",
       "      <th>4</th>\n",
       "      <td>A AND J HOLDING CO LTD</td>\n",
       "      <td>30</td>\n",
       "      <td>2021</td>\n",
       "      <td>2</td>\n",
       "      <td>5</td>\n",
       "      <td>4.0</td>\n",
       "      <td>0.0</td>\n",
       "      <td>0.0</td>\n",
       "      <td>0.0</td>\n",
       "      <td>CN</td>\n",
       "      <td>Richard Li(DME)</td>\n",
       "      <td>Gaming Chen</td>\n",
       "      <td>Top 12 Vendors</td>\n",
       "      <td>None</td>\n",
       "    </tr>\n",
       "  </tbody>\n",
       "</table>\n",
       "</div>"
      ],
      "text/plain": [
       "               VendorName Division  Year  Quarter  Month  Complaints  \\\n",
       "0  A AND J HOLDING CO LTD       30  2021        1      1        18.0   \n",
       "1  A AND J HOLDING CO LTD       30  2021        1      2         9.0   \n",
       "2  A AND J HOLDING CO LTD       30  2021        1      3        16.0   \n",
       "3  A AND J HOLDING CO LTD       30  2021        2      4        10.0   \n",
       "4  A AND J HOLDING CO LTD       30  2021        2      5         4.0   \n",
       "\n",
       "   BUOMShipmentQty  #: Items inspected  #: Items reworked Nation  \\\n",
       "0              0.0                 0.0                0.0     CN   \n",
       "1              0.0                 0.0                0.0     CN   \n",
       "2              0.0                 0.0                0.0     CN   \n",
       "3              0.0                 0.0                0.0     CN   \n",
       "4              0.0                 0.0                0.0     CN   \n",
       "\n",
       "  Regional Manager Project Leader        Category   CPM  \n",
       "0  Richard Li(DME)    Gaming Chen  Top 12 Vendors  None  \n",
       "1  Richard Li(DME)    Gaming Chen  Top 12 Vendors  None  \n",
       "2  Richard Li(DME)    Gaming Chen  Top 12 Vendors  None  \n",
       "3  Richard Li(DME)    Gaming Chen  Top 12 Vendors  None  \n",
       "4  Richard Li(DME)    Gaming Chen  Top 12 Vendors  None  "
      ]
     },
     "execution_count": 34,
     "metadata": {},
     "output_type": "execute_result"
    }
   ],
   "source": [
    "raw_data.head()"
   ]
  },
  {
   "cell_type": "code",
   "execution_count": null,
   "metadata": {},
   "outputs": [],
   "source": [
    "raw_data = raw_data[['VendorName',\n",
    "                     'Nation',\n",
    "                     'Project Leader',\n",
    "                     'Regional Manager',\n",
    "                     'Category',\n",
    "                     'Year',\n",
    "                     'Month',\n",
    "                     'Quarter',\n",
    "                     'Division',\n",
    "                     'Complaints',\n",
    "                     'BUOMShipmentQty',\n",
    "                     'CPM',\n",
    "                     '#: Items inspected',\n",
    "                     '#: Items reworked'\n",
    "                     ]]"
   ]
  },
  {
   "cell_type": "code",
   "execution_count": null,
   "metadata": {},
   "outputs": [],
   "source": [
    "raw_data = raw_data[~(raw_data['Complaints'] + raw_data['BUOMShipmentQty'] + raw_data['#: Items inspected'] + raw_data['#: Items reworked'] == 0)]"
   ]
  },
  {
   "cell_type": "code",
   "execution_count": null,
   "metadata": {},
   "outputs": [],
   "source": [
    "raw_data.to_excel('us_raw_data.xlsx')"
   ]
  },
  {
   "cell_type": "code",
   "execution_count": null,
   "metadata": {},
   "outputs": [],
   "source": []
  }
 ],
 "metadata": {
  "kernelspec": {
   "display_name": "Python 3",
   "language": "python",
   "name": "python3"
  },
  "language_info": {
   "codemirror_mode": {
    "name": "ipython",
    "version": 3
   },
   "file_extension": ".py",
   "mimetype": "text/x-python",
   "name": "python",
   "nbconvert_exporter": "python",
   "pygments_lexer": "ipython3",
   "version": "3.8.0"
  }
 },
 "nbformat": 4,
 "nbformat_minor": 2
}
