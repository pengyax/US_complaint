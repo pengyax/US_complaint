{
 "cells": [
  {
   "cell_type": "code",
   "execution_count": 49,
   "metadata": {},
   "outputs": [],
   "source": [
    "import pandas as pd\n",
    "import numpy as np"
   ]
  },
  {
   "cell_type": "code",
   "execution_count": 50,
   "metadata": {},
   "outputs": [],
   "source": [
    "vendor_mapping = pd.read_excel(r'C:\\Medline\\2. CPM\\data\\vendor_mapping\\Vendor _mapping 2024_v1.xlsx')\n",
    "vendor_mapping['Vendor Number'] = vendor_mapping['Vendor Number'].map(str)\n",
    "vendor_mapping_dict = dict(zip(vendor_mapping['Vendor Number'],vendor_mapping['Cleaned Vendor Name']))\n"
   ]
  },
  {
   "cell_type": "code",
   "execution_count": 51,
   "metadata": {},
   "outputs": [],
   "source": [
    "vendor_mapping_dict = dict(zip(vendor_mapping['Vendor Number'],vendor_mapping['Cleaned Vendor Name']))\n",
    "vendor_nation_dict = dict(zip(vendor_mapping['Cleaned Vendor Name'],vendor_mapping['Nation']))\n",
    "vendor_manager_dict = dict(zip(vendor_mapping['Cleaned Vendor Name'],vendor_mapping['Regional Manager']))"
   ]
  },
  {
   "cell_type": "code",
   "execution_count": 52,
   "metadata": {},
   "outputs": [],
   "source": [
    "blitz_vendor_info = pd.read_excel(r'C:\\Medline\\Vendor info\\2024_BlitzVendor.xlsx')\n",
    "blitz_ProjectLeader_dict = dict(zip(blitz_vendor_info['Vendor Name'],blitz_vendor_info['Project Leader']))\n",
    "blitz_Category_dict = dict(zip(blitz_vendor_info['Vendor Name'],blitz_vendor_info['Category']))"
   ]
  },
  {
   "cell_type": "code",
   "execution_count": 53,
   "metadata": {},
   "outputs": [
    {
     "name": "stderr",
     "output_type": "stream",
     "text": [
      "C:\\Users\\ypeng\\AppData\\Local\\Temp\\ipykernel_21024\\2473699971.py:1: FutureWarning: Inferring datetime64[ns] from data containing strings is deprecated and will be removed in a future version. To retain the old behavior explicitly pass Series(data, dtype=datetime64[ns])\n",
      "  df_complaints =pd.read_excel(r'C:\\Medline\\2. CPM\\2. US Complaints\\US Complaint Data 201901-202312.xlsx',sheet_name=1)\n"
     ]
    }
   ],
   "source": [
    "df_complaints =pd.read_excel(r'C:\\Medline\\2. CPM\\2. US Complaints\\US Complaint Data 201901-202312.xlsx',sheet_name=1)"
   ]
  },
  {
   "cell_type": "code",
   "execution_count": 54,
   "metadata": {},
   "outputs": [],
   "source": [
    "df_complaints_gy = (\n",
    "    df_complaints\n",
    "    .query(\"`If Manufacturing Complaint` == 'Y' and Year.isin([2023])\")\n",
    "    .assign(Quarter =lambda d: d['Notification Created Date'].dt.quarter,\n",
    "            Division = lambda d: d['Division'].map(str))\n",
    "    .groupby(['Vendor Name','Year','Quarter','Month'],as_index=False).size()\n",
    ")\n",
    "df_complaints_gy.rename(columns={'size':'Complaints','Vendor Name':'VendorName'},inplace=True)"
   ]
  },
  {
   "cell_type": "code",
   "execution_count": 55,
   "metadata": {},
   "outputs": [],
   "source": [
    "df_us_buom_2023 = pd.read_excel(r'C:\\Medline\\2. CPM\\4. CPM by BUOM\\BUOM Database\\history\\US_ShippingData_2023.xlsx',usecols='D,E,AB,AP,BI')\n",
    "df_us_buom_2024 = pd.read_excel(r'C:\\Medline\\2. CPM\\4. CPM by BUOM\\BUOM Database\\2024\\US\\US BUOM 202401.xlsx',usecols='D,E,P,X,Y')\n",
    "df_us_buom = pd.concat([df_us_buom_2024,df_us_buom_2023],ignore_index=True)\n",
    "df_us_buom.rename(columns={'StrippedVendorNumber':'VendorNumber'},inplace=True)\n",
    "df_us_buom['VendorNumber'] = df_us_buom['VendorNumber'].map(str)"
   ]
  },
  {
   "cell_type": "code",
   "execution_count": 56,
   "metadata": {},
   "outputs": [],
   "source": [
    "vendor_mapping_inspection = vendor_mapping.loc[(~vendor_mapping['Regional Manager'].isin(['Exemption','US vendor']))&(vendor_mapping['Regional Manager'].notnull()),'Vendor Number'].to_list()\n",
    "df_us_buom = df_us_buom.loc[df_us_buom['VendorNumber'].isin(vendor_mapping_inspection)]\n",
    "df_us_buom['VendorName'] = df_us_buom['VendorNumber'].apply(lambda x : vendor_mapping_dict.get(x,np.nan))"
   ]
  },
  {
   "cell_type": "code",
   "execution_count": 57,
   "metadata": {},
   "outputs": [],
   "source": [
    "df_us_buom['Year'] = df_us_buom['ShipmentDt'].dt.year\n",
    "df_us_buom['Quarter'] = df_us_buom['ShipmentDt'].dt.quarter\n",
    "df_us_buom['Month'] = df_us_buom['ShipmentDt'].dt.month"
   ]
  },
  {
   "cell_type": "code",
   "execution_count": 58,
   "metadata": {},
   "outputs": [],
   "source": [
    "df_us_buom_gy = df_BUOM_gy = df_us_buom.groupby(['VendorName','Year','Quarter','Month'],as_index=False)['BUOMShipmentQty'].sum()"
   ]
  },
  {
   "cell_type": "code",
   "execution_count": 59,
   "metadata": {},
   "outputs": [
    {
     "data": {
      "text/html": [
       "<div>\n",
       "<style scoped>\n",
       "    .dataframe tbody tr th:only-of-type {\n",
       "        vertical-align: middle;\n",
       "    }\n",
       "\n",
       "    .dataframe tbody tr th {\n",
       "        vertical-align: top;\n",
       "    }\n",
       "\n",
       "    .dataframe thead th {\n",
       "        text-align: right;\n",
       "    }\n",
       "</style>\n",
       "<table border=\"1\" class=\"dataframe\">\n",
       "  <thead>\n",
       "    <tr style=\"text-align: right;\">\n",
       "      <th></th>\n",
       "      <th>VendorName</th>\n",
       "      <th>Year</th>\n",
       "      <th>Quarter</th>\n",
       "      <th>Month</th>\n",
       "      <th>BUOMShipmentQty</th>\n",
       "    </tr>\n",
       "  </thead>\n",
       "  <tbody>\n",
       "    <tr>\n",
       "      <th>0</th>\n",
       "      <td>A AND J HOLDING CO LTD</td>\n",
       "      <td>2023</td>\n",
       "      <td>1</td>\n",
       "      <td>1</td>\n",
       "      <td>1826</td>\n",
       "    </tr>\n",
       "    <tr>\n",
       "      <th>1</th>\n",
       "      <td>A AND J HOLDING CO LTD</td>\n",
       "      <td>2023</td>\n",
       "      <td>1</td>\n",
       "      <td>2</td>\n",
       "      <td>1439</td>\n",
       "    </tr>\n",
       "    <tr>\n",
       "      <th>2</th>\n",
       "      <td>A AND J HOLDING CO LTD</td>\n",
       "      <td>2023</td>\n",
       "      <td>1</td>\n",
       "      <td>3</td>\n",
       "      <td>2279</td>\n",
       "    </tr>\n",
       "    <tr>\n",
       "      <th>3</th>\n",
       "      <td>A AND J HOLDING CO LTD</td>\n",
       "      <td>2023</td>\n",
       "      <td>2</td>\n",
       "      <td>4</td>\n",
       "      <td>1237</td>\n",
       "    </tr>\n",
       "    <tr>\n",
       "      <th>4</th>\n",
       "      <td>A AND J HOLDING CO LTD</td>\n",
       "      <td>2023</td>\n",
       "      <td>2</td>\n",
       "      <td>5</td>\n",
       "      <td>1236</td>\n",
       "    </tr>\n",
       "    <tr>\n",
       "      <th>...</th>\n",
       "      <td>...</td>\n",
       "      <td>...</td>\n",
       "      <td>...</td>\n",
       "      <td>...</td>\n",
       "      <td>...</td>\n",
       "    </tr>\n",
       "    <tr>\n",
       "      <th>4501</th>\n",
       "      <td>ZHONGSHAN BLISS MEDICAL</td>\n",
       "      <td>2023</td>\n",
       "      <td>3</td>\n",
       "      <td>9</td>\n",
       "      <td>17456</td>\n",
       "    </tr>\n",
       "    <tr>\n",
       "      <th>4502</th>\n",
       "      <td>ZHONGSHAN BLISS MEDICAL</td>\n",
       "      <td>2023</td>\n",
       "      <td>4</td>\n",
       "      <td>10</td>\n",
       "      <td>32414</td>\n",
       "    </tr>\n",
       "    <tr>\n",
       "      <th>4503</th>\n",
       "      <td>ZHONGSHAN BLISS MEDICAL</td>\n",
       "      <td>2023</td>\n",
       "      <td>4</td>\n",
       "      <td>11</td>\n",
       "      <td>15959</td>\n",
       "    </tr>\n",
       "    <tr>\n",
       "      <th>4504</th>\n",
       "      <td>ZHONGSHAN BLISS MEDICAL</td>\n",
       "      <td>2023</td>\n",
       "      <td>4</td>\n",
       "      <td>12</td>\n",
       "      <td>31173</td>\n",
       "    </tr>\n",
       "    <tr>\n",
       "      <th>4505</th>\n",
       "      <td>ZHONGSHAN BLISS MEDICAL</td>\n",
       "      <td>2024</td>\n",
       "      <td>1</td>\n",
       "      <td>1</td>\n",
       "      <td>20470</td>\n",
       "    </tr>\n",
       "  </tbody>\n",
       "</table>\n",
       "<p>4506 rows × 5 columns</p>\n",
       "</div>"
      ],
      "text/plain": [
       "                   VendorName  Year  Quarter  Month  BUOMShipmentQty\n",
       "0      A AND J HOLDING CO LTD  2023        1      1             1826\n",
       "1      A AND J HOLDING CO LTD  2023        1      2             1439\n",
       "2      A AND J HOLDING CO LTD  2023        1      3             2279\n",
       "3      A AND J HOLDING CO LTD  2023        2      4             1237\n",
       "4      A AND J HOLDING CO LTD  2023        2      5             1236\n",
       "...                       ...   ...      ...    ...              ...\n",
       "4501  ZHONGSHAN BLISS MEDICAL  2023        3      9            17456\n",
       "4502  ZHONGSHAN BLISS MEDICAL  2023        4     10            32414\n",
       "4503  ZHONGSHAN BLISS MEDICAL  2023        4     11            15959\n",
       "4504  ZHONGSHAN BLISS MEDICAL  2023        4     12            31173\n",
       "4505  ZHONGSHAN BLISS MEDICAL  2024        1      1            20470\n",
       "\n",
       "[4506 rows x 5 columns]"
      ]
     },
     "execution_count": 59,
     "metadata": {},
     "output_type": "execute_result"
    }
   ],
   "source": [
    "df_us_buom_gy"
   ]
  },
  {
   "cell_type": "code",
   "execution_count": 60,
   "metadata": {},
   "outputs": [
    {
     "data": {
      "text/html": [
       "<div>\n",
       "<style scoped>\n",
       "    .dataframe tbody tr th:only-of-type {\n",
       "        vertical-align: middle;\n",
       "    }\n",
       "\n",
       "    .dataframe tbody tr th {\n",
       "        vertical-align: top;\n",
       "    }\n",
       "\n",
       "    .dataframe thead th {\n",
       "        text-align: right;\n",
       "    }\n",
       "</style>\n",
       "<table border=\"1\" class=\"dataframe\">\n",
       "  <thead>\n",
       "    <tr style=\"text-align: right;\">\n",
       "      <th></th>\n",
       "      <th>VendorName</th>\n",
       "      <th>Year</th>\n",
       "      <th>Quarter</th>\n",
       "      <th>Month</th>\n",
       "      <th>Complaints</th>\n",
       "    </tr>\n",
       "  </thead>\n",
       "  <tbody>\n",
       "    <tr>\n",
       "      <th>0</th>\n",
       "      <td>A AND J HOLDING CO LTD</td>\n",
       "      <td>2023</td>\n",
       "      <td>1</td>\n",
       "      <td>1</td>\n",
       "      <td>10</td>\n",
       "    </tr>\n",
       "    <tr>\n",
       "      <th>1</th>\n",
       "      <td>A AND J HOLDING CO LTD</td>\n",
       "      <td>2023</td>\n",
       "      <td>1</td>\n",
       "      <td>2</td>\n",
       "      <td>3</td>\n",
       "    </tr>\n",
       "    <tr>\n",
       "      <th>2</th>\n",
       "      <td>A AND J HOLDING CO LTD</td>\n",
       "      <td>2023</td>\n",
       "      <td>1</td>\n",
       "      <td>3</td>\n",
       "      <td>5</td>\n",
       "    </tr>\n",
       "    <tr>\n",
       "      <th>3</th>\n",
       "      <td>A AND J HOLDING CO LTD</td>\n",
       "      <td>2023</td>\n",
       "      <td>2</td>\n",
       "      <td>4</td>\n",
       "      <td>3</td>\n",
       "    </tr>\n",
       "    <tr>\n",
       "      <th>4</th>\n",
       "      <td>A AND J HOLDING CO LTD</td>\n",
       "      <td>2023</td>\n",
       "      <td>2</td>\n",
       "      <td>5</td>\n",
       "      <td>7</td>\n",
       "    </tr>\n",
       "    <tr>\n",
       "      <th>...</th>\n",
       "      <td>...</td>\n",
       "      <td>...</td>\n",
       "      <td>...</td>\n",
       "      <td>...</td>\n",
       "      <td>...</td>\n",
       "    </tr>\n",
       "    <tr>\n",
       "      <th>819</th>\n",
       "      <td>ZHONGSHAN BLISS MEDICAL</td>\n",
       "      <td>2023</td>\n",
       "      <td>3</td>\n",
       "      <td>8</td>\n",
       "      <td>13</td>\n",
       "    </tr>\n",
       "    <tr>\n",
       "      <th>820</th>\n",
       "      <td>ZHONGSHAN BLISS MEDICAL</td>\n",
       "      <td>2023</td>\n",
       "      <td>3</td>\n",
       "      <td>9</td>\n",
       "      <td>3</td>\n",
       "    </tr>\n",
       "    <tr>\n",
       "      <th>821</th>\n",
       "      <td>ZHONGSHAN BLISS MEDICAL</td>\n",
       "      <td>2023</td>\n",
       "      <td>4</td>\n",
       "      <td>10</td>\n",
       "      <td>6</td>\n",
       "    </tr>\n",
       "    <tr>\n",
       "      <th>822</th>\n",
       "      <td>ZHONGSHAN BLISS MEDICAL</td>\n",
       "      <td>2023</td>\n",
       "      <td>4</td>\n",
       "      <td>11</td>\n",
       "      <td>6</td>\n",
       "    </tr>\n",
       "    <tr>\n",
       "      <th>823</th>\n",
       "      <td>ZHONGSHAN BLISS MEDICAL</td>\n",
       "      <td>2023</td>\n",
       "      <td>4</td>\n",
       "      <td>12</td>\n",
       "      <td>1</td>\n",
       "    </tr>\n",
       "  </tbody>\n",
       "</table>\n",
       "<p>824 rows × 5 columns</p>\n",
       "</div>"
      ],
      "text/plain": [
       "                  VendorName  Year  Quarter  Month  Complaints\n",
       "0     A AND J HOLDING CO LTD  2023        1      1          10\n",
       "1     A AND J HOLDING CO LTD  2023        1      2           3\n",
       "2     A AND J HOLDING CO LTD  2023        1      3           5\n",
       "3     A AND J HOLDING CO LTD  2023        2      4           3\n",
       "4     A AND J HOLDING CO LTD  2023        2      5           7\n",
       "..                       ...   ...      ...    ...         ...\n",
       "819  ZHONGSHAN BLISS MEDICAL  2023        3      8          13\n",
       "820  ZHONGSHAN BLISS MEDICAL  2023        3      9           3\n",
       "821  ZHONGSHAN BLISS MEDICAL  2023        4     10           6\n",
       "822  ZHONGSHAN BLISS MEDICAL  2023        4     11           6\n",
       "823  ZHONGSHAN BLISS MEDICAL  2023        4     12           1\n",
       "\n",
       "[824 rows x 5 columns]"
      ]
     },
     "execution_count": 60,
     "metadata": {},
     "output_type": "execute_result"
    }
   ],
   "source": [
    "df_complaints_gy"
   ]
  },
  {
   "cell_type": "code",
   "execution_count": 61,
   "metadata": {},
   "outputs": [],
   "source": [
    "raw_data = df_complaints_gy.merge(df_us_buom_gy,how = 'outer',on=['VendorName','Year','Quarter','Month']).fillna(0)"
   ]
  },
  {
   "cell_type": "code",
   "execution_count": 62,
   "metadata": {},
   "outputs": [],
   "source": [
    "raw_data['Nation'] = raw_data['VendorName'].apply(lambda x : vendor_nation_dict.get(x,np.nan))\n",
    "raw_data['Regional Manager'] = raw_data['VendorName'].apply(lambda x : vendor_manager_dict.get(x,np.nan))\n",
    "raw_data['Project Leader'] = raw_data['VendorName'].apply(lambda x : blitz_ProjectLeader_dict.get(x,np.nan))\n",
    "raw_data['Category'] = raw_data['VendorName'].apply(lambda x : blitz_Category_dict.get(x,np.nan))"
   ]
  },
  {
   "cell_type": "code",
   "execution_count": 63,
   "metadata": {},
   "outputs": [],
   "source": [
    "raw_data = raw_data[['VendorName',\n",
    "                     'Nation',\n",
    "                     'Project Leader',\n",
    "                     'Regional Manager',\n",
    "                     'Category',\n",
    "                     'Year',\n",
    "                     'Month',\n",
    "                     'Quarter',\n",
    "                     'Complaints',\n",
    "                     'BUOMShipmentQty'\n",
    "                     ]]"
   ]
  },
  {
   "cell_type": "code",
   "execution_count": 64,
   "metadata": {},
   "outputs": [],
   "source": [
    "raw_data.to_excel('us_raw_data.xlsx')"
   ]
  }
 ],
 "metadata": {
  "kernelspec": {
   "display_name": "Python 3",
   "language": "python",
   "name": "python3"
  },
  "language_info": {
   "codemirror_mode": {
    "name": "ipython",
    "version": 3
   },
   "file_extension": ".py",
   "mimetype": "text/x-python",
   "name": "python",
   "nbconvert_exporter": "python",
   "pygments_lexer": "ipython3",
   "version": "3.8.0"
  }
 },
 "nbformat": 4,
 "nbformat_minor": 2
}
